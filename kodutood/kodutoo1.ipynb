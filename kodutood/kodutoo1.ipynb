{
 "cells": [
  {
   "cell_type": "markdown",
   "metadata": {},
   "source": [
    "# Kodutöö 1"
   ]
  },
  {
   "cell_type": "markdown",
   "metadata": {},
   "source": [
    "## Kodutöö reeglid\n",
    "\n",
    "Järgmised reeglid kehtivad kõigi antud kursuse 8 kodutöö puhul, kui ei ole öeldud teisiti.\n",
    "\n",
    "#### Kodutöö tulemusi ei tohi avalikustada ega jagada\n",
    "\n",
    "Palume, et sa ei jagaks kellelegi oma kodutööde lahendusi. See palve kehtib ka pärast kodutööde esitamist, sest samu ülesandeid võidakse kasutada järgnevatel aastatel.\n",
    "\n",
    "#### Lahenda individuaalselt\n",
    "\n",
    "Kodutööd on mõeldud individuaalseks lahendamiseks. Kursusel on loomulikult lubatud üksteise abistamine, et ülesandest aru saada aga lahendus tuleb igal ühel endal kirja panna. Oma lahenduse koodist ühegi koodirea jagamine teiste tudengitega on keelatud. Kui koodis leidub viga ja sa ei leia seda omal jõul, siis on lubatud abi küsida kogenenuma programmeerija või statistiku käest ja ainult probleemse koodirea lõikes lahendust jagada. \n",
    "\n",
    "Kodutööde lahendamine on antud kursuse tuum ja neid lahendades õpid sa kõige rohkem! Oma käega läbi proovides ja lahenduse otsimine ei ole sama, mis kellegi teise lahenduse läbi sirvimine. Mällu sööbivad higi ja pisaratega tulnud lahendused paremini!\n",
    "\n",
    "#### Kasuta standardseid või praktikumis kasutatud pakette\n",
    "\n",
    "Mõne ülesande lahendus võib olla kergem kasutades mõnda teist paketti. Kuid palume, et aine käigus kasutaksid R-i pakette, mida kasutame praktikumis või pakutakse ülesande tekstis. Oma kiirema lahenduse võid alati koodi lisada ning see võib anda lisa punkte.\n",
    "\n",
    "\n",
    "#### Plagiaat\n",
    "\n",
    "Eelnevate reeglite vastu eksimine loetakse plagiaadiks. Juhul kui tuvastame kindla plagiaadi juhtumi, siis:\n",
    "\n",
    "- Kui pole varasemaid probleeme, siis olenevalt olukorrast antakse kodutöö eest 0 punkti ja õppejõu poolt hoiatus. Juhtumist teavitatakse õppekava koordinaatorit.\n",
    "- Kui plagiaadi probleem on korduv või teame, et oled saanud sarnaseid hoiatusi teistelt kursustelt, siis teavitatakse dekanaati."
   ]
  },
  {
   "cell_type": "markdown",
   "metadata": {},
   "source": [
    "## Kuidas lahendada kodutöid?\n",
    "\n",
    "#### Ära kustuta lahtreid (_cells_), vajadusel võid lisada\n",
    "\n",
    "Palume mitte kustutada lahtreid, mis tulevad kaasa algses Jupyter failis. Kui juhuslikult kustutate mõne lahtri, siis lisage kustutatud sisu tagasi (`Edit -> Undo Deleted Cell` ehk aitab või kopeerige algsest Jupyter failist). Lahendus võib olla lisatud ka mitme lahtri abil. Palume, et iga lahendus oleks vastava ülesande juures selleks ettenähtud lahtris (või lahtrites).\n",
    "\n",
    "Käesolevad vormingu nõuded aitavad kodutööde hindamist lihtsustada ja muuta tagasiside kiiremaks. Automaatsed skriptid koondavad iga alamülesande lahenduse eraldi faili üle kogu kursuse ja hindaja vaatab ühe ülesande kaupa läbi kõik esitatud tööd. Lahtrite kustutamisel võib sinu lahendus jääda hindamata, kuid anname endast parima, et kõik sujuks.\n",
    "\n",
    "#### Ära seadista töökataloogi\n",
    "\n",
    "Käsku `setwd()` võite kasutada aga palume mitte kopeerida seda Jupyter faili lahendustesse või lõpplahenduses kommenteerige see rida välja. Vaikimisi võtab Jupyter Notebook töökaustaks sama kausta, kus asub muudetav Jupyter fail, seega andmete sisselugemiseks piisab `andmestik = read.csv(\"Aktsiad 2022.csv\", sep = \";\", header = T)`. Faili täielikku aadressi (_full path_) pole vaja. Selleks salvesta kõik kasutatavad failid samasse kausta! Kodutööde kontrollimisel tegutseme samamoodi.\n",
    "\n",
    "#### Palun kommenteeri koodi\n",
    "\n",
    "Kommenteeri koodi kasvõi minimalistlikul viisil, see aitab lahendusest paremini aru saada ja sul endal on tulevikus lihtsam lahendusse süveneda.\n",
    "\n",
    "#### Lahenduste ajakulu hindamine\n",
    "\n",
    "Palume, et iga kodutöö lõpus hindaksid kaua sul lahendamiseks aega kulus. See ei ole kohustuslik ja ei mõjuta hinnet aga võimaldab kodutöid paremaks muuta (pakkudes abistavaid vihjeid, kui liiga ajakulukas või lisada huvitavaid ülesandeid, kui liiga lihtne). Võid kasutada selleks Eesti startup [Toggl](https://toggl.com/) toodet. \n",
    "\n",
    "#### Enne töö esitamist\n",
    "\n",
    "Enne kodutöö esitamist palun jooksuta `Kernel -> Restart and Run All` oma Jupyter failis. See kindlustab, et su kood jookseb nii nagu peab. Juhul kui mõni koodi osa ei tööta, siis palun kommenteeri see välja lisa vea teade või vea põhjus.\n",
    "\n",
    "#### Esita ainult .ipynb fail\n",
    "\n",
    "Palun esita ainult .ipynb Jupyter notebook fail, kui ei ole öeldud teisiti. Me jooksutame faili koos kõigi vajalike failidega (nt. CSV failid andmetega).\n",
    "\n",
    "#### Tähtaeg\n",
    "\n",
    "Kodutöö tähtaeg on üldiselt 1 nädal, järgmise nädala kolmapäeva kesköö. Seega saad sa vajadusel midagi üle küsida järgmises praktikumis. Juhul kui esitad kodutöö pärast tähtaega aga tähtajast 7 päeva jooksul, siis on sul võimalik saada 50% kogutud punktidest. Pärast 2 nädalat läheb kodutöö eest 0 punkti kirja.\n",
    "\n",
    "#### Küsimusi?\n",
    "\n",
    "Küsimuste korral kirjuta aine foorumisse Moodle's või praktikumi juhendaja meilile."
   ]
  },
  {
   "cell_type": "markdown",
   "metadata": {},
   "source": [
    "**Teksti vormindamine**\n",
    "\n",
    "See kiri on tavaline.  \n",
    "See kiri on *kaldkirjas*  \n",
    "See kiri on **paksus kirjas**\n",
    "\n",
    "* Punkte välja tuua\n",
    "* Veel üks punkt"
   ]
  },
  {
   "cell_type": "markdown",
   "metadata": {},
   "source": [
    "# Jupyter Notebook sissejuhatav video (2 boonuspunkti)\n",
    "\n",
    "Esmalt, vaata palun järgnevat videot \"Jupyter Notebook Tutorial\", et saada aimu, milleks Jupyteri kasutatakse ja vasta kõigile all olevatele küsimustele.\n",
    "\n",
    "[Jupyter Notebook Tutorial](https://www.youtube.com/embed/HW29067qVWk)"
   ]
  },
  {
   "cell_type": "markdown",
   "metadata": {},
   "source": [
    "**a. Mida indikeerib number lahtri ees ja nurksulgude sees -- \"In [?]\"?**"
   ]
  },
  {
   "cell_type": "markdown",
   "metadata": {},
   "source": [
    "**<font color='red'>Vastus:</font>** Kirjuta vastus siia.\n",
    "\n"
   ]
  },
  {
   "cell_type": "markdown",
   "metadata": {},
   "source": [
    "**b. Mis on Jupyter Notebook eelised (või puudused) võrreldes teiste programmeerimis-keskkondadega?**"
   ]
  },
  {
   "cell_type": "markdown",
   "metadata": {},
   "source": [
    "**<font color='red'>Vastus:</font>** Kirjuta vastus siia."
   ]
  },
  {
   "cell_type": "markdown",
   "metadata": {},
   "source": [
    "\n",
    "# Kodutöö 1 osa I - veebiloengud, videod, artiklid (5 punkti)\n",
    "\n",
    "1.1 (**2 punkti**) Vaata Johns Hopkinsi reprodutseeritava analüüsi videosid:\n",
    "\n",
    "\n",
    "* [Reproducible Research: Concepts and Ideas (Part 1/3)](https://www.youtube.com/watch?v=4rBX6r5emgQ&index=1&list=PLjTlxb-wKvXOU4WW4p3qc4VKWTI4gLNUf)\n",
    "* [Reproducible Research: Concepts and Ideas (Part 2/3)](https://www.youtube.com/watch?v=GXSRP--d3Q4&index=2&list=PLjTlxb-wKvXOU4WW4p3qc4VKWTI4gLNUf)\n",
    "* [Reproducible Research: Concepts and Ideas (Part 3/3)](https://www.youtube.com/watch?v=bwQWhZQmDuc&list=PLjTlxb-wKvXOU4WW4p3qc4VKWTI4gLNUf&index=3)"
   ]
  },
  {
   "cell_type": "markdown",
   "metadata": {},
   "source": [
    "Vasta järgmistele küsimustele:\n",
    "\n",
    "* Selgitage, mida tähendab, et *reprodutseeritav analüüs* on kompromiss *uuringu replikeerimise* ja *mitte millegi* vahel."
   ]
  },
  {
   "cell_type": "markdown",
   "metadata": {},
   "source": [
    "**<font color='red'>Vastus:</font>** Kirjuta vastus siia."
   ]
  },
  {
   "cell_type": "markdown",
   "metadata": {},
   "source": [
    "* Mis on sinu arvates reprodutseeritava analüüsi suurim väljakutse? Põhjenda. Kuidas sellega toime tulla?"
   ]
  },
  {
   "cell_type": "markdown",
   "metadata": {},
   "source": [
    "**<font color='red'>Vastus:</font>** Kirjuta vastus siia."
   ]
  },
  {
   "cell_type": "markdown",
   "metadata": {},
   "source": [
    "1.2 (**1 punkt**) Vaata videot [Data Management Course: Sharing your data](https://www.youtube.com/watch?v=eUC7MweyyFA)\n",
    "\n",
    "Vasta järgmisele küsimusele:\n",
    "\n",
    "* Nimeta vähemalt 3 olulist aspekti seoses andmete talletamise ning andmehaldusega, millele videos viidati."
   ]
  },
  {
   "cell_type": "markdown",
   "metadata": {},
   "source": [
    "**<font color='red'>Vastus:</font>** Kirjuta vastus siia."
   ]
  },
  {
   "cell_type": "markdown",
   "metadata": {},
   "source": [
    "1.3 (**2 punkti**) Loe artiklit [Researchers Finally Replicated Reinhart-Rogoff, and There Are Serious Problems](https://seekingalpha.com/article/1345701-researchers-finally-replicated-reinhart-rogoff-and-there-are-serious-problems). \n",
    "Artikkel kirjeldab majandusteadlaste Reinhart'i ja Rogoff'i 2010. aasta publikatsiooni Growth in a Time of Debt ning mis vigu riigivõla ja majanduskasvu uurimisel tehti. Järgmises praktikumis uurime sama andmestikku, mida käsitleti ka Reinhart'i ja Rogoff'i artiklis.\n",
    "\n",
    "Vasta järgmistele küsimustele:\n",
    "\n",
    "* Nimeta, mis oli Reinhart'i ja Rogoff'i artikli üks olulisemaid tulemusi."
   ]
  },
  {
   "cell_type": "markdown",
   "metadata": {},
   "source": [
    "**<font color='red'>Vastus:</font>** Kirjuta vastus siia."
   ]
  },
  {
   "cell_type": "markdown",
   "metadata": {},
   "source": [
    "* Millel põhines teadlaste Herndon'i, Ash'i ja Pollin'i kriitika majandusteadlaste Reinhart'i ja Rogoff'i teadusartiklile Growth in a Time of Debt. (nimeta 3 probleemi)."
   ]
  },
  {
   "cell_type": "markdown",
   "metadata": {},
   "source": [
    "**<font color='red'>Vastus:</font>** Kirjuta vastus siia."
   ]
  },
  {
   "cell_type": "markdown",
   "metadata": {},
   "source": [
    "# Kodutöö 1 osa II\n",
    "\n",
    "## Sissejuhatus\n",
    "\n",
    "Mati \"Raha\" Masin töötab investeerimispangas ning ta vastutab igapäevase aktsiaturu ülevaate koostamise eest. Ta vihkab oma tööd selle rutiinsuse pärast. Vaja on kopeerida uued aktsiaturu andmed Exceli tabeli õigesse lahtrisse, klikkida vajalikel nuppudel ja kopeerida tulemused raportisse.\n",
    "\n",
    "Peale selle, et tegevus on igav, võib andmete, valemite ja tulemuste kopeerimisel tekkida mitmeid vigu. Seega kontrollib Mati mitu korda üle ega kopeerimisel vigu ei tekkinud, sest ta teab, et andmete kopeerimisel võivad eksida isegi [Harvardi majandusteadlased](http://en.wikipedia.org/wiki/Growth_in_a_Time_of_Debt) (praktikum 2 teema).\n",
    "\n",
    "Ta unistab automaatsest statistikaraportist - andmed ning analüüsi tulemused uuenevad automaatselt ja raporti genereerimine on automatiseeritud. Selles praktikumis vaatamegi, kuidas sellist tööprotsessi automatiseerida R-is.\n",
    "\n",
    "Eesmärgiks on koostada automaatselt uuenev raport, kus on:\n",
    "\n",
    "* suurimad tõusjad ja kukkujad;\n",
    "* aktsiaturu ülevaade sektorite lõikes;\n",
    "* aktsiate ostusoovitused.\n",
    "\n",
    "Andmetabelist info kättesaamiseks kasutame R-i paketti *dplyr*. Selle paketi kohta loe täpsemalt [praktikumimaterjalist](https://andmeteadus.github.io/2021/praktikum1_dplyr/) ning uuri sealseid minimalistlikke näiteid. \n",
    "\n",
    "## Ülevaade andmestikust\n",
    "\n",
    "Andmestikus on näidatud 505 ettevõtte (kõik need ettevõtted, mis on kuulsas S&P 500 indeksis) kohta järgmised tunnused:\n",
    "\n",
    "* *symbol*: ettevõtte ID börsil\n",
    "* *nimi*: ettevõtte nimi\n",
    "* *sektor*: sektor, kus ettevõte tegutseb\n",
    "* *hind*: viimase aktsiatehingu hind\n",
    "* *tootlus*: aktsiahinna muutus võrreldes eelmise päevaga protsentides\n",
    "* *kogus*: aktsiate arv, mis vahetas omanikku päeva jooksul\n",
    "* *kasum_aktsia_kohta*: ettevõtte aastakasum / aktsiate koguarv\n",
    "* *dividend_aktsia_kohta*: väljamakstud dividendid aastas / aktsiate koguarv\n",
    "\n",
    "Laadi alla andmestik [Aktsiad 2022.csv](https://andmeteadus.github.io/2022/data/Aktsiad%202022.csv) ning loe andmestik töökeskonda.\n",
    "\n",
    "## Kodutöö raport\n",
    "\n",
    "Kodutöö tulemusena peab valmima raport, kus kajastuvad järgnevate ülesannete lahendused. Allpool on toodud nii raportile esitatavad täpsemad nõuded (vt ülesanne 5) kui ka näidisraport. Ülesannete lahendamisel on vaja kasutada *dplyr* paketi funktsioone. "
   ]
  },
  {
   "cell_type": "markdown",
   "metadata": {},
   "source": [
    "### Ülesanne 2.1 (3 punkti) - Suurimad tõusjad. Suurimad kukkujad.\n",
    "\n",
    "> Mati tahab oma turuülevaates näidata kolme suurimat tõusjat ja kukkujat.\n",
    "\n",
    "Kõigepealt leia kolm kõige suurema päevase tootlusega aktsiat ning väljasta nende kohta:\n",
    "\n",
    "1. ettevõtte sümbol\n",
    "2. ettevõtte nimi\n",
    "3. hind\n",
    "4. tootlus.\n",
    "\n",
    "Seejärel leia kolm kõige madalama päevase tootlusega aktsiat ning väljasta nende kohta samasugune info. \n",
    "\n",
    "Näpunäide: Abiks on funktsioonid `arrange()`, `select()` ja `top_n()`."
   ]
  },
  {
   "cell_type": "code",
   "execution_count": null,
   "metadata": {},
   "outputs": [],
   "source": [
    "# Ülesanne 2.1\n",
    "\n"
   ]
  },
  {
   "cell_type": "markdown",
   "metadata": {},
   "source": [
    "### Ülesanne 2.2 (5 punkti) - Ülevaade sektorite lõikes\n",
    "\n",
    "> Mati soovib raportis näidata ülevaadet ka sektorite lõikes, sest kliente võib huvitadada, kas ehitussektori aktsiatega kaubeldi rohkem kui IT-sektori aktsiatega?\n",
    "\n",
    "Iga sektori kohta, kus on vähemalt 30 ettevõtet, väljasta järgnev info:\n",
    "\n",
    "1. sektori keskmine tootlus\n",
    "2. sektori kogukäive\n",
    "3. sektori keskmine käive\n",
    "4. ettevõtete arv sektoris \n",
    "\n",
    "Juhised:\n",
    "\n",
    "* Lisa andmestikku tunnus *käive*, mis näitab, kui suure summa eest igat aktsiat kaubeldi. (Selleks tuleb korrutada päeva jooksul kaubeldud aktsiate arv viimase tehingu hinnaga.)\n",
    "* Arvuta iga sektori kohta\n",
    "    * keskmine tootlus, \n",
    "    * kogukäive, \n",
    "    * keskmine käive, \n",
    "    * ettevõtete arv.  \n",
    "  Näpunäide 1: Kasuta paketi *dplyr* funktsioone `group_by()` ja `summarise()`.  \n",
    "  Näpunäide 2: Summade ja keskmiste arvutamisel ära võta arvesse puuduvaid väärtusi (puuduvate väärtuse välja jätmiseks võib funktsioonide `sum` ja `mean` argumendi `na.rm` väärtuseks seada `TRUE`).\n",
    "* Näita ainult neid sektoreid, kus on vähemalt 30 ettevõtet.\n",
    "* Sorteeri tabel tunnuse *kogukäive* alusel kahanevalt."
   ]
  },
  {
   "cell_type": "code",
   "execution_count": null,
   "metadata": {},
   "outputs": [],
   "source": [
    "# Ülesanne 2.2\n",
    "# sinu kood\n"
   ]
  },
  {
   "cell_type": "markdown",
   "metadata": {},
   "source": [
    "### Ülesanne 2.3 (5 punkti) - kauplemisalgoritm\n",
    "\n",
    "> Mati arvates annab iga vähegi nupukam aktsiaanalüütik klientidele aktsiate ostusoovitusi, et klient saaks oma vara kasvatada.\n",
    "\n",
    "Kirjuta funktsioon *kauplemisalgoritm*, mille sisendiks on andmestik *data* ja mis tagastab kolme kõige atraktiivsema ettevõtte sümbolid, mis saavadki ostusoovitusteks.\n",
    "\n",
    "Juhised:\n",
    "\n",
    "* Kõigepealt tekita andmestikku juurde järgmised kaks tunnust:\n",
    "    * kasumi-aktsiahinna suhe (kasum_aktsia_kohta/hind) [kui sa tead, mida tähendab PE suhe, siis me arvutame PE suhte pöördväärtust]\n",
    "    * dividendi määr (dividend_aktsia_kohta/hind) [pane tähele, et mõnel ettevõttel on `dividend_aktsia_kohta` väärtus `NA`. Asenda esmalt puuduvad väärtused 0-ga]\n",
    "* Arvuta iga aktsia kohta atraktiivsuse skoor, mis on arvutatud järgnevalt `0.5 * kasumi-aktsiahinna suhe + 0.5 * dividendi määr` \n",
    "* Ostusoovituseks leia kolm kõige suurema skooriga aktsiat.\n",
    "\n",
    "Kui eelnevaga oled hakkama saanud, siis proovi eelnev kood kirjutada funktsiooniks, mis võtab sisendiks suvalise andmestiku ning väljastab kolme kõige atraktiivsema ettevõtte aktsiate sümbolid **vektorina** (meenutus: `andmestik$tunnus`). Funktsioon võib välja näha näiteks nii:"
   ]
  },
  {
   "cell_type": "code",
   "execution_count": null,
   "metadata": {
    "eval": false,
    "lines_to_next_cell": 2
   },
   "outputs": [],
   "source": [
    "# Ülesanne 2.3\n",
    "kauplemisalgoritm = function(x){\n",
    "  # tekitame andmestikule x juurde tunnused kasumi-aktsiahinna suhe \n",
    "  # ja dividendi määr\n",
    "  # [sinu kood]\n",
    "  \n",
    "  # arvutame iga aktsia kohta atraktiivsuse skoori\n",
    "  # [sinu kood]\n",
    "  \n",
    "  # tagasta kolme kõige suurema skooriga ettevõtte sümbolid vektorina\n",
    "}"
   ]
  },
  {
   "cell_type": "markdown",
   "metadata": {},
   "source": [
    "### Ülesanne 2.4 (2 punkti) - turvaline kauplemisalgoritm ja ostusoovitused\n",
    "\n",
    "> Mati ei ole veel vanemanalüütiku staatust saanud ning ta kardab veidi oma soovituste pärast. Mis juhtub kui aktsiasoovitus osutub katastroofiks? Kui kliendid saavad Mati soovituste pärast hiigelsuuri kahjumeid, siis kõigub ka tema töökoht. Mis oleks kui soovitada ainult populaarseid aktsiaid? Siis saab ju alati öelda, et vanemanalüütikud teistes pankades soovitasid ka ...\n",
    "\n",
    "Nüüd kirjuta funktsioon *kauplemisalgoritm_turvaline*, kus valid atraktiivseid aktsiaid vaid populaarsete aktsiate hulgast. Populaarsed aktsiad on järgnevad: AAPL, AMZN, FB, GOOG, IBM, NFLX, NVDA. \n",
    "\n",
    "Juhised:\n",
    "\n",
    "* Vali andmestikust välja ainult aktsiad AAPL, AMZN, FB, GOOG, IBM, NFLX, NVDA.\n",
    "* Rakenda saadud alamandmestikul eelnevas ülesandes kirjutatud funktsiooni. \n",
    "\n",
    "Kui eelnev töötab, siis kirjuta eelnev kood funktsiooniks ja kasutades funktsiooni *kauplemisalgoritm_turvaline*, väljasta 3 ostusoovitust. \n"
   ]
  },
  {
   "cell_type": "code",
   "execution_count": null,
   "metadata": {
    "eval": false,
    "lines_to_next_cell": 2
   },
   "outputs": [],
   "source": [
    "# Ülesanne 2.4\n",
    "kauplemisalgoritm_turvaline = function(x){\n",
    "  # sinu kood\n",
    "}"
   ]
  },
  {
   "cell_type": "markdown",
   "metadata": {},
   "source": [
    "### Ülesanne 2.5 (5 punkti) - raporti vormistamine\n",
    "\n",
    "Vormistage eelnevate ülesannete lahendused selliseks *knitr* raportiks (html või pdf formaadis), et \n",
    "\n",
    "* Kõik andmestike väljatrükid oleks toodud tabelitena. Selleks kasuta näiteks funktsiooni `kable`. (Näpunäide: funktsiooni `kable` kasutades saab komakohtade arvu määrata parameetri `digits` abil ja selleks, et suured arvud paremini loetavad oleks, saab täiendava argumendina lisada `format.args = list(big.mark = \" \")`, mis lisab tuhandeliste vahele tühiku. Selleks, et vabaneda teaduslikust arvuformaadist, st arvu eksponentkujul esitamisest, tuleb koodi algusesse lisada `options(scipen=1000)`.)\n",
    "* Ostusoovitus (ül 4 tulemus) lisage teksti sisse reasisese R-i koodi abil (*inline R code*). \n",
    "* Ära raportis R-i koodi (ega muud müra) näita. Koodi väljajätmiseks kasuta näiteks iga koodibloki päises valikut `echo=FALSE`. Teine variant on muuta globaalseid sätteid, kus lisad `.Rmd` faili algusesse\n",
    "\n",
    "<pre class=\"markdown\"><code>&#96;&#96;&#96;{r, echo=FALSE}\n",
    "library(knitr)\n",
    "opts_chunk$set(echo=FALSE, message=FALSE, warning = FALSE)\n",
    "&#96;&#96;&#96;\n",
    "</code></pre>"
   ]
  },
  {
   "cell_type": "markdown",
   "metadata": {},
   "source": [
    "### Näidisraport\n",
    "\n",
    "Raport võiks välja näha umbes selline (pildil ei ole näidatud ilmtingimata õiged väärtused): \n",
    "\n",
    "![](https://raw.githubusercontent.com/andmeteadus/2021/master/_praktikum1/aktsiad/kodutoo1_naide2.PNG \"Näide\")\n"
   ]
  },
  {
   "cell_type": "markdown",
   "metadata": {},
   "source": [
    "### Ülesanne 2.5\n",
    "\n",
    "Esitada tuleb:\n",
    "* raport (png formaadis, pdf formaati saab png-ks muuta nt [pdf2png.com](https://pdf2png.com/) abil). Saadud .png faili nimeks pane oma <matrikliNr_KT1_naide.png>, lisa see siia Jupyter Notebooki järgmise käsu abil:\n",
    "`![](B12345_KT1_naide.png \"Minu näide\")`\n",
    "* lähtekood .Rmd failist - selleks kopeeri kogu oma .Rmd faili sisu (seda saad lihtsalt teha Ctrl+A (_Select all_), Ctrl+C (_Copy_) ja Ctrl+V (_Paste_) klahvide abil). Ära muretse selle pärast, et Jupyter annab veateate selle koodi jooksutamisel. Kuna see on RMarkdown kood, siis Jupyter kahjuks ei oska seda jooksutada. Hindaja(d) õnneks oskavad seda koodi lugeda ;)\n"
   ]
  },
  {
   "cell_type": "markdown",
   "metadata": {},
   "source": [
    "![](B12345_KT1_naide.png \"Minu näide\")"
   ]
  },
  {
   "cell_type": "code",
   "execution_count": null,
   "metadata": {},
   "outputs": [],
   "source": [
    "# Ülesanne 2.5\n",
    "# kopeeri siia oma raporti RMarkdown kood\n"
   ]
  },
  {
   "cell_type": "markdown",
   "metadata": {},
   "source": [
    "### Boonusülesanne 2.1 (1 punkt): raporti täiendamine\n",
    "\n",
    "Kasuta paketti `kableExtra`, et vormindada ühte või enamat raportis olevat tabelit. Paketi võimalustega tutvumiseks saab kasutada näiteks seda [abimaterjali](https://cran.r-project.org/web/packages/kableExtra/vignettes/awesome_table_in_html.html). \n"
   ]
  },
  {
   "cell_type": "code",
   "execution_count": null,
   "metadata": {},
   "outputs": [],
   "source": [
    "# Boonusülesanne 2.1 - Sisesta üks näide oma raportist, kus rakendasid kableExtra paketi käske.\n"
   ]
  },
  {
   "cell_type": "markdown",
   "metadata": {},
   "source": [
    "### Boonusülesanne 2.2 (3 punkti): andmete automaatne uuenemine\n",
    "\n",
    "Muuda kodutööd selliselt, et staatilise faili *Aktsiad 2022.csv* asemel kasutatakse reaalajas andmeid, mis on saadud portaalist *finance.yahoo.com*.\n",
    "\n",
    "Mõned näpunäited:\n",
    "\n",
    "* kasuta R-i paketti `quantmod`\n",
    "* kasuks tuleb funktsioon `getQuote`\n",
    "* tunnuste loetelu nägemiseks, mida on võimalik *finance.yahoo.com* portaalist saada, on abiks funktsioon `yahooQF()`\n",
    "* hinnana kasuta tunnust *Last Trade (Price Only)*, sümbolina *Symbol*, tootlusena *Change in Percent*, kogusena *Volume*, kasumina aktsia kohta *Earnings/Share*, dividendina aktsia kohta *Dividend/Share* \n",
    "* ettevõtete nime ja sektori saab Wikipedia lehelt alla laadida järgmise koodijupi abil:"
   ]
  },
  {
   "cell_type": "code",
   "execution_count": null,
   "metadata": {
    "eval": false
   },
   "outputs": [],
   "source": [
    "# Boonusülesanne 2.2\n",
    "library(rvest) # Vajalik eelnevalt installida pakett rvest\n",
    "sp500_wiki <- read_html(\n",
    "  \"https://en.wikipedia.org/wiki/List_of_S%26P_500_companies\")\n",
    "\n",
    "aktsiad_wiki <- sp500_wiki %>%\n",
    "  html_nodes(\"table\") %>%\n",
    "  html_nodes(xpath = '//*[@id=\"constituents\"]') %>% \n",
    "  html_table()\n",
    "\n",
    "aktsiad_wiki <- aktsiad_wiki[[1]][,c(1,2,4)]\n",
    "colnames(aktsiad_wiki) = c(\"symbol\", \"nimi\", \"sektor\")\n",
    "aktsiad_wiki$symbol = gsub(\".\", \"-\", aktsiad_wiki$symbol, fixed = TRUE)"
   ]
  },
  {
   "cell_type": "markdown",
   "metadata": {},
   "source": [
    "* ühenda Wikist laetud andmestik Yahoo'st saadud andmestikuga tunnuse *symbol* alusel (vt`?join` või `?merge`)"
   ]
  },
  {
   "cell_type": "code",
   "execution_count": null,
   "metadata": {},
   "outputs": [],
   "source": [
    "# Boonusülesanne 2\n",
    "# tulemuseks esita andmestik, mis oleks sisendiks R-markdownis kirjutatud raportile.\n"
   ]
  },
  {
   "cell_type": "markdown",
   "metadata": {},
   "source": [
    "## <font color='red'>See oli viimane ülesanne! Palun jooksuta kogu Jupyter Notebook uuesti, et veenduda oma koodi töötamises! (`Kernel -> Restart and Run All`)</font>"
   ]
  },
  {
   "cell_type": "markdown",
   "metadata": {},
   "source": [
    "## Lahendamise aeg\n",
    "\n",
    "Kaua sul kulus kodutöö lahendamisele (tundides, asenda X)? Mis oli kõige raskem?"
   ]
  },
  {
   "cell_type": "markdown",
   "metadata": {},
   "source": [
    "**<font color='red'>Kodutöö 1 lahendamiseks kulus:</font>** X h\n",
    "\n",
    "Kõige raskem oli ülesanne ... "
   ]
  },
  {
   "cell_type": "markdown",
   "metadata": {},
   "source": [
    "**Tänan vastamast!**"
   ]
  }
 ],
 "metadata": {
  "jupytext": {
   "cell_metadata_filter": "eval,-all",
   "main_language": "R",
   "notebook_metadata_filter": "-all"
  },
  "kernelspec": {
   "display_name": "R",
   "language": "R",
   "name": "ir"
  },
  "language_info": {
   "codemirror_mode": "r",
   "file_extension": ".r",
   "mimetype": "text/x-r-source",
   "name": "R",
   "pygments_lexer": "r",
   "version": "3.6.1"
  }
 },
 "nbformat": 4,
 "nbformat_minor": 4
}
