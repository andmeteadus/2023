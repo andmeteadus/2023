{
 "cells": [
  {
   "cell_type": "markdown",
   "metadata": {},
   "source": [
    "# VII kodutöö\n"
   ]
  },
  {
   "cell_type": "markdown",
   "metadata": {},
   "source": [
    "# I osa - biomarkerid\n",
    "\n",
    "### Sissejuhatus\n",
    "\n",
    "Geenitehnoloogiat tudeeriv Elo \"Elu\" Eliksiir on kuulnud, et ka geneetika valdkonnas leidub edukaid ettevõtteid, nagu näiteks 23andMe, mis annab inimesele teada tema riski haigestuda erinevatesse haigustesse. Sestap plaanib ta teha idufirma, mis teeniks tulu inimese surma prognoosimisega. Täpsemalt, inimeselt võetaks vereproov, ning selle tulemuste põhjal öeldaks talle, milline on tema tõenäosus surra järgneva 5 aasta jooksul. \n",
    "\n",
    "Et kirjutada taotlus rahastuse saamiseks, on tal esmalt vaja välja mõelda, millel see suremuse test üldse peaks põhinema. See tähendab, et millise ühendi sisaldust vereproovist oleks vaja mõõta? Ta leidis, et Geenivaramu teadlased eesotsas Krista Fischeriga (TÜ statistika professor) on 2014. aastal avaldanud teadusartikli [Biomarker Profiling by Nuclear Magnetic Resonance Spectroscopy for the Prediction of All-Cause Mortality: An Observational Study of 17,345 Persons](http://journals.plos.org/plosmedicine/article?id=10.1371/journal.pmed.1001606). \n",
    "\n",
    "Selle praktikumis uurimegi, kas ja kuidas saab biomarkerite abil ennustada surma. Meil on kasutada valim Geenivaramu andmestikust, mis sisaldab 5000 inimese verest mõõdetud 106 biomarkeri väärtuseid. \n",
    "\n",
    "Aga mis üleüldse on biomarker?\n",
    "\n",
    "> A biomarker is a biological molecule found in blood, body fluids, or tissues that may signal an abnormal process, a condition, or a disease. The level of a particular biomarker may indicate a patient's risk of disease, or likely response to a treatment. For example, cholesterol levels are measured to assess the risk of heart disease.\n",
    "\n",
    "Ehk et biomarkerid on lihtsalt märgid, mille seast mõned võivad midagi näidata.\n",
    "\n",
    "### Andmestik\n",
    "\n",
    "Kasutame valimit Geenivaramu andmestikust, mida kasutati eelnevalt mainitud teadusartikli juures. Täpsemalt on andmestikus tunnused:\n",
    "\n",
    "* *sugu*\n",
    "* *vanusegrupp*\n",
    "* *s5* - indikaator, kas 5 aasta pärast oli surnud\n",
    "* *hyp* - kas inimesel on hüpertooniatõbi ehk kõrgvererõhutõbi\n",
    "* *suits* - kas on suitsetaja\n",
    "* *LDL_D* - esimese biomarkeri väärtus\n",
    "* *L_HDL_FC* - teise biomarkeri väärtus\n",
    "* ...\n",
    "* *Cit* - viimase biomarkeri väärtus\n",
    "\n",
    "Lae alla andmestik [biomarkerid.csv](https://andmeteadus.github.io/2021/data/biomarkerid.csv) ja loe töökeskkonda.\n",
    "\n",
    "Analüüsi lihtsuse huvides eemalda puuduvaid andmeid sisaldavad read. Abiks on funktsioon `na.omit`. \n",
    "\n",
    "### Kui hästi on kolesterooli abil võimalik ennustada surma?\n",
    "\n",
    "> Elo tutvus Geenivaramu andmestikuga, ent seal oli palju arusaamatute lühenditega biomarkereid. Samas on ta kuulnud, et kolesterool on üks nendest näitajatest, mille näit peab tingimata korras olema. Ehk saaks kolesterooli põhjal hästi prognoosida surma?\n",
    "\n",
    "Eralda andmestikust alamandmestik, mis sisaldaks tunnuseid *sugu*, *vanusegrupp*, *s5*, *hyp*, *suits* ning  järgmisi biomarkereid:\n",
    "\n",
    "1. Serum_C - üldkolesterool\n",
    "2. HDL_C - [HDL kolesterool (\"hea\")](http://en.wikipedia.org/wiki/High-density_lipoprotein)\n",
    "3. LDL_C - [LDL kolesterool (\"halb\")](http://en.wikipedia.org/wiki/Low-density_lipoprotein)\n"
   ]
  },
  {
   "cell_type": "markdown",
   "metadata": {},
   "source": [
    "### Ülesanne 1.1 (2 punkti) - kolesterool soo ja vanusegruppide lõikes\n",
    "\n",
    "Tutvu andmestikuga ja selgita välja, kuidas on kodeeritud tunnus sugu (kas 0 tähistab meest või naist)?\n",
    "\n",
    "Visualiseeri, kuidas nende 3 biomarkeri jaotused erinevad soo ja vanusegruppide lõikes."
   ]
  },
  {
   "cell_type": "code",
   "execution_count": null,
   "metadata": {},
   "outputs": [],
   "source": [
    "# Ülesanne 1.1\n",
    "# sinu kood\n"
   ]
  },
  {
   "cell_type": "markdown",
   "metadata": {},
   "source": [
    "### Ülesanne 1.2 (4 punkti) - surma prognoosimine kolesterooli abil?\n",
    "\n",
    "Uuri, kas kolesterool võimaldab prognoosida surma. Selleks tuleb andmetele sobitada mudel. \n",
    "\n",
    "a. Visualiseeri, kas kolesterooli (Serum_C, HDL_C, LDL_C) abil võiks saada prognoosida surma.  \n"
   ]
  },
  {
   "cell_type": "code",
   "execution_count": null,
   "metadata": {},
   "outputs": [],
   "source": [
    "# Ülesanne 1.21\n",
    "# sinu kood\n"
   ]
  },
  {
   "cell_type": "markdown",
   "metadata": {},
   "source": [
    "b. Tundub, et joonisest ei piisa ning tuleb pöörduda statistiliste mudelite juurde. Kas kasutad lineaarset või logistilist regressiooni? Miks? \n"
   ]
  },
  {
   "cell_type": "code",
   "execution_count": null,
   "metadata": {},
   "outputs": [],
   "source": [
    "# Ülesanne 1.2b\n",
    "# kommentaar\n"
   ]
  },
  {
   "cell_type": "markdown",
   "metadata": {},
   "source": [
    "c. Kui sobitada mudel `glm(s5 ~ HDL_C, family=binomial, data=data)`, siis selgub, et HDL_C on oluline surma prognoosimisel. Kui aga sobitada mudel `glm(s5 ~ HDL_C + sugu, family=binomial, data=data)`, siis miskipärast HDL_C enam ei ole oluline. Hinda vastavad mudelid ja selgita, mis värk on. Kas siis kokkuvõttes HDL_C on oluline või mitte?\n"
   ]
  },
  {
   "cell_type": "code",
   "execution_count": null,
   "metadata": {},
   "outputs": [],
   "source": [
    "# Ülesanne 1.2c\n",
    "# sinu kood + kommentaar\n"
   ]
  },
  {
   "cell_type": "markdown",
   "metadata": {},
   "source": [
    "d. Sobita kolm mudelit, et uurida kolesterooli seost surmaga (eraldi mudelid tunnuste Serum_C, HDL_C ja LDL_C jaoks). Muide, kas lisad mudelitesse ka tunnused sugu, vanusegrupp, suits ja hyp? Põhjenda oma otsust. \n"
   ]
  },
  {
   "cell_type": "code",
   "execution_count": null,
   "metadata": {},
   "outputs": [],
   "source": [
    "# Ülesanne 1.2d\n",
    "# sinu kood + kommentaar\n"
   ]
  },
  {
   "cell_type": "markdown",
   "metadata": {},
   "source": [
    "e. Milline on tulemus, st kas siis mõni kolmest kolesterooli tunnusest on olulise mõjuga surma ennustamisel? "
   ]
  },
  {
   "cell_type": "code",
   "execution_count": null,
   "metadata": {},
   "outputs": [],
   "source": [
    "# Ülesanne 1.2e\n",
    "# kommentaar\n"
   ]
  },
  {
   "cell_type": "markdown",
   "metadata": {},
   "source": [
    "### Kogu andmestikul põhinev analüüs\n",
    "\n",
    "Eelnimetatud teadusartiklis vaadeldi kõiki 106 biomarkerit. Tegelenud esialgu kolme biomarkeriga, saime tuttavaks logistilise regressiooniga R-is ning julgeme nüüd asuda artiklis kirjeldatud analüüsi reprodutseerima. Kõigis järgnevates ülesannetes kasutame kogu andmestikku (st kõiki 106 biomarkerit). "
   ]
  },
  {
   "cell_type": "markdown",
   "metadata": {},
   "source": [
    "### Ülesanne 1.3 (1 punkt) - korrelatsioonid biomarkerite vahel\n",
    "\n",
    "* Tee joonis, mis annaks hästi edasi, kas ja millised biomarkerid on omavahel korreleeritud. (Näpunäide: Arvuta korrelatsioonimaatriks käsuga `cor` ning visualiseeri seda.) Interpreteeri, milliseid mustreid ja seoseid näed? "
   ]
  },
  {
   "cell_type": "code",
   "execution_count": null,
   "metadata": {
    "lines_to_next_cell": 2
   },
   "outputs": [],
   "source": [
    "# Ülesanne 1.3\n",
    "# sinu kood + kommentaar\n"
   ]
  },
  {
   "cell_type": "markdown",
   "metadata": {},
   "source": [
    "### Ülesanne 1.4 (2 punkt) - Oluliste biomarkeri tuvastamine\n",
    "\n",
    "Milline biomarker aitab kõige paremini ennustada surma kui võtame arvesse vanuse ja soo mõju?\n",
    "\n",
    "Selleks sobita mudelid\n",
    "\n",
    "* s5 ~ sugu + vanusegrupp + biomarker_1\n",
    "* s5 ~ sugu + vanusegrupp + biomarker_2\n",
    "* ...\n",
    "* s5 ~ sugu + vanusegrupp + biomarker_106\n",
    "\n",
    "ja iga biomarkeri korral eralda mudelist selle p-väärtus ja kordaja.\n",
    "\n",
    "Ühele biomarkerile vastava kordaja ja p-väärtuse kättesaamiseks oleme ette andnud funktsiooni:"
   ]
  },
  {
   "cell_type": "code",
   "execution_count": null,
   "metadata": {
    "eval": false,
    "lines_to_next_cell": 2
   },
   "outputs": [],
   "source": [
    "biomarkeri_pvaartus_kordaja <- function(biomarker, formula0, andmestik){\n",
    "  formula <-paste(formula0, biomarker, sep=\" + \")\n",
    "  mudel <- glm(formula, family = binomial, data = andmestik)\n",
    "  summary_tabel <- coef(summary(mudel))\n",
    "  pvaartus <- summary_tabel[nrow(summary_tabel), 4]\n",
    "  kordaja <- summary_tabel[nrow(summary_tabel), 1]\n",
    "  \n",
    "  return(data.frame(biomarker = biomarker, \n",
    "                    pvaartus = pvaartus, \n",
    "                    kordaja = kordaja,\n",
    "                    stringsAsFactors = FALSE))\n",
    "}\n",
    "\n",
    "formula0 <- \"s5 ~ sugu + vanusegrupp\"\n",
    "biomarkeri_pvaartus_kordaja(\"LDL_D\", formula0, data)"
   ]
  },
  {
   "cell_type": "markdown",
   "metadata": {},
   "source": [
    "Käsitsi 106 korda antud funktsiooni läbi jooksutada ei tundu hea mõte olevat. Seega tuleks mudelite hindamisprotsess automatiseerida. Üks variant on kasutada `for` tsüklit. Teine võimalus on kasutada funktsiooni `lapply` (väljundiks list), mille esimeseks parameetriks on vektor väärtustega, mida etteantud funktsiooni (teine parameeter) esimeseks sisendiks määrata. Selle funktsiooni ülejäänud parameetrid saab määrata justkui need oleksid funktsiooni `lapply` parameetriteks.\n",
    "\n",
    "a. Kirjuta funktsioon `biomarkerite_olulisus`, mis leiab nii kordaja kui p-väärtuse kõikidele biomarkeritele, mis funktsiooni ühe sisendina ette antakse. Kasuta selle funktsiooni sees funktsiooni `biomarkeri_pvaartus_kordaja`. Funktsiooni sisenditeks on\n",
    "  - biomarkerid - vektor biomarkeritest, millele kordaja ja p-väärtus leida\n",
    "  - formula0 - `gml` valemi osa, millele lisatakse veel juurde vaadeldav biomarker\n",
    "  - andmestik - andmetabel, mille pealt mudelid hinnata "
   ]
  },
  {
   "cell_type": "code",
   "execution_count": null,
   "metadata": {
    "eval": false
   },
   "outputs": [],
   "source": [
    "# Ülesanne 1.4a\n",
    "biomarkerite_olulisus = function(biomarkerid, formula0, andmestik){\n",
    "  \n",
    "  # sinu kood\n",
    "  \n",
    "  # Tagastada dataframe, mille veergudeks on biomarkeri nimi, \n",
    "  # selle p-väärtus ning kordaja suurus\n",
    "}"
   ]
  },
  {
   "cell_type": "markdown",
   "metadata": {},
   "source": [
    "Kontrolli oma lahendust:"
   ]
  },
  {
   "cell_type": "code",
   "execution_count": null,
   "metadata": {
    "eval": false
   },
   "outputs": [],
   "source": [
    "f <- \"s5 ~ sugu + vanusegrupp\"\n",
    "biomarkerite_olulisus(c(\"LDL_D\", \"HDL_C\"), f, data)"
   ]
  },
  {
   "cell_type": "markdown",
   "metadata": {},
   "source": [
    "Eelneva koodi jooksutamisel võiksid saada väljundiks:"
   ]
  },
  {
   "cell_type": "code",
   "execution_count": 1,
   "metadata": {
    "tags": [
     "remove_input"
    ]
   },
   "outputs": [
    {
     "data": {
      "text/html": [
       "<table>\n",
       "<caption>A data.frame: 2 × 3</caption>\n",
       "<thead>\n",
       "\t<tr><th scope=col>biomarker</th><th scope=col>pvaartus</th><th scope=col>kordaja</th></tr>\n",
       "\t<tr><th scope=col>&lt;fct&gt;</th><th scope=col>&lt;dbl&gt;</th><th scope=col>&lt;dbl&gt;</th></tr>\n",
       "</thead>\n",
       "<tbody>\n",
       "\t<tr><td>LDL_D</td><td>0.005930</td><td> 0.28460</td></tr>\n",
       "\t<tr><td>HDL_C</td><td>0.073287</td><td>-0.17294</td></tr>\n",
       "</tbody>\n",
       "</table>\n"
      ],
      "text/latex": [
       "A data.frame: 2 × 3\n",
       "\\begin{tabular}{lll}\n",
       " biomarker & pvaartus & kordaja\\\\\n",
       " <fct> & <dbl> & <dbl>\\\\\n",
       "\\hline\n",
       "\t LDL\\_D & 0.005930 &  0.28460\\\\\n",
       "\t HDL\\_C & 0.073287 & -0.17294\\\\\n",
       "\\end{tabular}\n"
      ],
      "text/markdown": [
       "\n",
       "A data.frame: 2 × 3\n",
       "\n",
       "| biomarker &lt;fct&gt; | pvaartus &lt;dbl&gt; | kordaja &lt;dbl&gt; |\n",
       "|---|---|---|\n",
       "| LDL_D | 0.005930 |  0.28460 |\n",
       "| HDL_C | 0.073287 | -0.17294 |\n",
       "\n"
      ],
      "text/plain": [
       "  biomarker pvaartus kordaja \n",
       "1 LDL_D     0.005930  0.28460\n",
       "2 HDL_C     0.073287 -0.17294"
      ]
     },
     "metadata": {},
     "output_type": "display_data"
    }
   ],
   "source": [
    "data.frame(\"biomarker\" = c(\"LDL_D\", \"HDL_C\"), \n",
    "           \"pvaartus\" = c(0.00593, 0.073287), \n",
    "           \"kordaja\" = c(0.2846, -0.17294))"
   ]
  },
  {
   "cell_type": "markdown",
   "metadata": {},
   "source": [
    "b. Kasuta nüüd eelnevalt kirjutatud funktsiooni kõigi 106 biomarkeri jaoks. Prindi välja iga biomarkeri p-väärtus ning kordaja hinnang. "
   ]
  },
  {
   "cell_type": "code",
   "execution_count": null,
   "metadata": {
    "lines_to_next_cell": 2
   },
   "outputs": [],
   "source": [
    "# Ülesanne 1.4b\n",
    "# sinu kood\n"
   ]
  },
  {
   "cell_type": "markdown",
   "metadata": {},
   "source": [
    "### Boonusülesanne 1.1 (2 punkti) - paralleelarvutus\n",
    "\n",
    "Muuda funktsiooni `biomarkerite_olulisus` selliselt, et selle sees oleks kasutatud paralleelarvutust, st biomarkeritele vastavate mudelite hindamine oleks jaotatud protsessorituumade vahel. \n",
    "\n",
    "Selleks tuleks tavapärane `for` tsükkel või funktsioon `lapply` asendada näiteks funktsiooniga `parLapply` (pakett *parallel*) või funktsiooniga `foreach` ja operaatoriga `%dopar%` (pakett *foreach*). Vali neist välja meelepärasem või rakenda soovi korral mõnda muud paralleelarvutuste võimalust.  \n",
    "\n",
    "Uuri, mida teevad järgmised näited:"
   ]
  },
  {
   "cell_type": "code",
   "execution_count": null,
   "metadata": {
    "eval": false,
    "lines_to_next_cell": 2
   },
   "outputs": [],
   "source": [
    "library(foreach)\n",
    "library(doParallel)\n",
    "tuumade_arv <- detectCores(logical = FALSE) # Füüsiliste tuumade arv\n",
    "klaster <- makeCluster(tuumade_arv)\n",
    "registerDoParallel(klaster)\n",
    "\n",
    "foreach(i = letters[1:10], .combine = c) %dopar%\n",
    "  toupper(i)\n",
    "\n",
    "stopCluster(klaster)"
   ]
  },
  {
   "cell_type": "code",
   "execution_count": null,
   "metadata": {
    "eval": false
   },
   "outputs": [],
   "source": [
    "library(parallel)\n",
    "tuumade_arv <- detectCores(logical = FALSE) # Füüsiliste tuumade arv\n",
    "klaster <- makeCluster(tuumade_arv)\n",
    "\n",
    "parLapply(klaster,letters[1:10], toupper)\n",
    "\n",
    "stopCluster(klaster)"
   ]
  },
  {
   "cell_type": "code",
   "execution_count": null,
   "metadata": {},
   "outputs": [],
   "source": [
    "# Ülesanne B1.1\n",
    "# sinu kood või katsetuste tulemused (vt. allumist märkust)\n"
   ]
  },
  {
   "cell_type": "markdown",
   "metadata": {},
   "source": [
    "Kas paralleelarvutusega võitsid kiiruses?\n",
    "\n",
    "**NB!** Kui erinevust ei tulnud, siis kasutad sa suure tõenäosusega MRO-d ([Microsoft R-Open](https://mran.microsoft.com/)), millel on paralleelarvutused (rohkemal või vähemal määral) vaikimisi sisse ehitatud. Võid antud ülesande ka MRO-ga teha - \n",
    "\n",
    "* Paigalda MRO \n",
    "* Muuda RStudios kasutatavat R-i (Tools -> Global Options -> R version)\n",
    "* Jooksuta oma kood ülesande 1.4 kood uuesti ja esita siia tulemuste erinevused. \n",
    "* Mõõda erinevate R-de kasutamisel programmi käivitusaega, kasuta funktsiooni system.time({}):\n",
    "\n",
    "```\n",
    "system.time({ sleep_for_a_minute() })\n",
    "#   user  system elapsed\n",
    "#  0.004   0.000  60.051\n",
    "```"
   ]
  },
  {
   "cell_type": "markdown",
   "metadata": {},
   "source": [
    "### Ülesanne 1.5 (1 punkt)\n",
    "\n",
    "Visualiseeri saadud tulemust. Võid teha näiteks sellise joonise p-väärtustest log-skaalal\n",
    "\n",
    "![](https://raw.githubusercontent.com/andmeteadus/2021/master/_praktikum7/biomarkerid/example_plot_biomarkers_uus2.png)"
   ]
  },
  {
   "cell_type": "code",
   "execution_count": null,
   "metadata": {
    "lines_to_next_cell": 2
   },
   "outputs": [],
   "source": [
    "# Ülesanne 1.5\n",
    "# sinu kood\n"
   ]
  },
  {
   "cell_type": "markdown",
   "metadata": {},
   "source": [
    "### Ülesanne 1.6 (4 punkti + 1 boonuspunkt) - p-väärtuse piiri paikapanek\n",
    "\n",
    "Nüüd saime kõigi biomarkerite jaoks teada p-väärtused. Jääb veel küsimus, millised neist peaksime liigitama olulisteks. \n",
    "\n",
    "Kuna testisime kõigi 106 biomarkeri olulisust surma ennustamisel, puutume kokku mitmese testimise probleemiga. Vaata selle kohta [koomiksit \"Significant\"](https://xkcd.com/882/) ning uuri [materjalist]( http://www.stat.berkeley.edu/~mgoldman/Section0402.pdf) mitmese testimise ja Bonferroni korrektsiooni kohta. \n",
    "\n",
    "a. (**1 punkt**) Selgita, milles seisnes koomiksi idee. "
   ]
  },
  {
   "cell_type": "markdown",
   "metadata": {},
   "source": [
    "**<font color='red'>Vastus:</font>** Kirjuta vastus siia."
   ]
  },
  {
   "cell_type": "markdown",
   "metadata": {},
   "source": [
    "b. (**1 punkt**) Artiklis kasutati olulisuse nivood `p < 0.0005`. Täpsemalt,\n",
    "\n",
    "> ... significant at the Bonferroni-corrected threshold of p<0.0005, accounting for testing of 106 candidate biomarkers\n",
    "\n",
    "Selgita, miks kasutati sellist p-väärtuse piiri (aga mitte klassikalist `p < 0.05`)?"
   ]
  },
  {
   "cell_type": "markdown",
   "metadata": {},
   "source": [
    "**<font color='red'>Vastus:</font>** Kirjuta vastus siia."
   ]
  },
  {
   "cell_type": "markdown",
   "metadata": {},
   "source": [
    "c. (**2 punkti**) Veendumaks, et `p < 0.05` kasutamisel võime tõepoolest saada liiga palju valepositiivseid tulemusi, tekita andmestik, kus puudub seos tunnuse *s5* ja biomarkerite vahel. Selleks tekita uus tunnus, kus oleks *s5* väärtuseid permuteeritud suvaliselt. Sobita nüüd mudelid, kus prognoosiksid permuteeritud *s5* väärtuseid biomarkerite põhjal (selleks võid kasutada ülesandes 4 kirjutatud funktsiooni). \n",
    "\n",
    "* Mitme biomarkeri p-väärtused tulid väiksemad kui 0.05? \n",
    "* Aga mitu tükki olid olulised Bonferroni korrektsiooni järgi?\n",
    "* Mitut olulist p-väärtust oleksid oodanud kummalgi juhul? Selgita. "
   ]
  },
  {
   "cell_type": "code",
   "execution_count": null,
   "metadata": {},
   "outputs": [],
   "source": [
    "# Ülesanne 1.6c\n",
    "# sinu kood + kommentaar\n"
   ]
  },
  {
   "cell_type": "markdown",
   "metadata": {},
   "source": [
    "d. (**1 boonuspunkt**) Korda permuteerimist 100 korral ning tee kokkuvõte tulemustest. "
   ]
  },
  {
   "cell_type": "code",
   "execution_count": null,
   "metadata": {
    "lines_to_next_cell": 2
   },
   "outputs": [],
   "source": [
    "# Ülesanne B1.6d\n",
    "# sinu kood + kommentaar\n"
   ]
  },
  {
   "cell_type": "markdown",
   "metadata": {},
   "source": [
    "### Ülesanne 1.7 (1 punkt) - alternatiiv Bonferroni korrektsioonile\n",
    "\n",
    "Ülesandes 3 nägime, et mitmed biomarkerid on omavahel tugevalt korreleeritud. Niisiis võib Bonferroni korrektsioon osutuda praegu liiga rangeks. Alternatiivselt võiksime leida, kui suur on meie andmestikus mittekorreleeritud tunnuste arv, ning teha nende arvu järgi Bonferroni korrektsiooni. Selleks, et leida andmestiku nn \"efektiivne dimensionaalsus\", kasuta PCA-d. \n",
    "\n",
    "Juhised:\n",
    "\n",
    "* Rakenda andmestikul PCA-d ning leia, mitu peakomponenti seletavad näiteks 99\\% variatsioonist. \n",
    "* Leitud peakomponentide arv näitabki ligikaudu sõltumatute tunnuste arvu meie andmestikus. Tee Bonferroni korrektsioon selle arvu järgi. Millise p-väärtuse piiri saad?"
   ]
  },
  {
   "cell_type": "code",
   "execution_count": null,
   "metadata": {
    "lines_to_next_cell": 2
   },
   "outputs": [],
   "source": [
    "# Ülesanne 1.7\n",
    "# sinu kood + kommentaar\n"
   ]
  },
  {
   "cell_type": "markdown",
   "metadata": {},
   "source": [
    "### Boonusülesanne 1.2 (2 punkti) - usaldusintervallid kordajate jaoks\n",
    "\n",
    "a. (**1 boonuspunkt**) Muuda funktsiooni `biomarkeri_pvaartus_kordaja` selliselt, et iga biomarkeri kordajale arvutad ka 95% usaldusintervalli. Võid kasutada normaaljaotusel põhinevat lähendit ning arvutada selle `kordaja_hinnang +- 1.96 * SE`, kus SE on `summary(model)` väljundis toodud `Std. Error`. Funktsiooni tagastatavas andmetabelis peaksid nüüd olema ka veerud `UI_alumine` ja `UI_ylemine`. "
   ]
  },
  {
   "cell_type": "code",
   "execution_count": null,
   "metadata": {
    "lines_to_next_cell": 2
   },
   "outputs": [],
   "source": [
    "# Ülesanne B1.2a\n",
    "# sinu kood\n"
   ]
  },
  {
   "cell_type": "markdown",
   "metadata": {},
   "source": [
    "b. (**1 boonuspunkt**) Visualiseeri tulemust (näiteks iga biomarkeri kohta näita kordaja hinnangut koos usaldusintervalliga). "
   ]
  },
  {
   "cell_type": "code",
   "execution_count": null,
   "metadata": {},
   "outputs": [],
   "source": [
    "# Ülesanne B1.2b\n",
    "# sinu kood\n"
   ]
  },
  {
   "cell_type": "markdown",
   "metadata": {},
   "source": [
    "### Ülesanne 1.8 (1 punkt) - forward selection\n",
    "\n",
    "Artiklis on kirjeldatud mudeli koostamist järgnevalt: \n",
    "\n",
    "> For biomarker discovery in the Estonian Biobank cohort, a multivariate model was derived in a forward stepwise fashion (Figure 2). First, the biomarker leading to the smallest p-value in the model adjusted for age and sex only was included as a predictor. Subsequently, the biomarker leading to the smallest p-value in the multivariate model adjusted for age, sex, and the first biomarker was included in the prediction model. The process was repeated until no additional biomarkers were significant at the Bonferroni-corrected threshold of p<0.0005, accounting for testing of 106 candidate biomarkers.\n",
    "\n",
    "Eelmistes ülesannetes leidsid kõige olulisema p-väärtusega biomarkeri. Jätka nüüd *forward selection*-iga:\n",
    "\n",
    "* Lisa leitud biomarker mudelisse ning lähtu mudelist `s5 ~ sugu + vanusegrupp + kõige_olulisem_biomarker`\n",
    "* Kasuta funktsiooni `biomarkerite_olulisus` ning leia nüüd järgmine biomarker, mis mudelisse lisada. \n",
    "* Jätka senikaua, kuni mudelisse lisatavad biomarkerite p-väärtused on väiksemad kui sinu määratud piir. \n",
    "\n",
    "Artiklis saadi sellise protsessi tulemusena 4 olulist biomarkerit: Alb, VLDL_D, Gp, Cit. Kas said samasugused? Kui kõiki ei saanud, ära muretse."
   ]
  },
  {
   "cell_type": "code",
   "execution_count": null,
   "metadata": {},
   "outputs": [],
   "source": [
    "# Ülesanne 1.8\n",
    "# sinu kood\n"
   ]
  },
  {
   "cell_type": "markdown",
   "metadata": {},
   "source": [
    "### Ülesanne 1.9 (1 punkt) - surma tõenäosuse prognoosimine\n",
    "\n",
    "Eelmise ülesande tulemusena on sul nüüd olemas lõplik mudel, mis võtab arvesse kõik, mis on oluline surma tõenäosuse prognoosimiseks. Prognoosi iga andmestikus oleva inimese kohta tema tõenäosust surra 5 aasta jooksul ja visualiseeri tulemust (näiteks histogrammi abil).\n",
    "\n",
    "Näpunäide: Uuri, mida teeb järgnev kood"
   ]
  },
  {
   "cell_type": "code",
   "execution_count": null,
   "metadata": {
    "eval": false,
    "lines_to_next_cell": 2
   },
   "outputs": [],
   "source": [
    "# Ülesanne 1.9\n",
    "model = glm(s5 ~ suits + HDL_C, family=binomial, data=data)\n",
    "newdata = data.frame(suits = c(0, 0, 1), \n",
    "                     HDL_C = c(0.5, -0.2, 1.1), \n",
    "                     suvaline_tunnus = c(1, 2, 3))\n",
    "# On oluline, et newdata sisaldaks kindlasti kõik need veerud, mida on vaja prognoosimisel\n",
    "predicted_probabilities = predict(model, newdata=newdata, type = \"response\")\n",
    "\n",
    "# sinu kood"
   ]
  },
  {
   "cell_type": "markdown",
   "metadata": {},
   "source": [
    "### Ülesanne 1.10 (2 punkti) - prognooside täpsus\n",
    "\n",
    "Eelmises ülesandes prognoosisid surma tõenäosust. Aga mida hakkab tavainimene peale tõenäosusega? Olgem ikka konkreetsed, kas siis sureb 5 aasta jooksul või mitte. \n",
    "\n",
    "Selleks otsusta piir, millisest väiksemad tõenäosused klassifitseerid *ei sure* ja suuremad tõenäosused *sureb*. Kasutades seda piiri ning eelmises ülesandes kirjutatud funktsiooni, arvuta kõigi andmestikus olnud inimeste jaoks 5 aasta jooksul suremise prognoos (justkui meil poleks olnud teada tunnuse s5 väärtus). \n",
    "\n",
    "Milline on sinu prognooside täpsus (st kui suur osa prognoosidest langes kokku tunnuse s5 väärtusega)?\n",
    "\n",
    "Võrdlusmomendi saamiseks paku välja veel mingi teine, naiivne klassifitseerija (see võib põhineda ükskõik kui lihtsal reeglil). Milline on selle täpsus?"
   ]
  },
  {
   "cell_type": "code",
   "execution_count": null,
   "metadata": {},
   "outputs": [],
   "source": [
    "# Ülesanne 1.10\n",
    "# sinu kood + kommentaar\n"
   ]
  },
  {
   "cell_type": "markdown",
   "metadata": {},
   "source": [
    "\n",
    "# II osa\n",
    "\n",
    "Järgmises praktikumis tegeleme dopingutesti uurimisega. Järgnev video ja artikkel annavad sissejuhatuse teemasse. \n",
    "\n",
    "### Ülesanne 2.1 (**2 punkti**) \n",
    "Vaata videot [The tradeoff between sensitivity and specificity](https://www.youtube.com/watch?v=vtYDyGGeQyo) statistilise testi tundlikkuse ja spetsiifilisuse kohta. \n",
    "\n",
    "* Mida näitab statistilise testi tundlikkus (*sensitivity*)? \n",
    "Kuidas saavutada 100\\% tundlikkus?\n",
    "* Miks räägitakse kompromissi leidmisest tundlikkuse ja spetsiifilisuse vahel (*tradeoff between sensitivity and specificity*)?"
   ]
  },
  {
   "cell_type": "markdown",
   "metadata": {},
   "source": [
    "**<font color='red'>Vastus:</font>** Kirjuta vastus siia."
   ]
  },
  {
   "cell_type": "markdown",
   "metadata": {},
   "source": [
    "### Ülesanne 2.2 (**4 punkti**) \n",
    "\n",
    "Loe Krista Fischeri ja Donald A. Berry artiklit [Statisticians Introduce Science to International Doping Agency: The Andrus Veerpalu Case](http://chance.amstat.org/2014/09/doping/) ning vasta järgmistele küsimustele.\n",
    "\n",
    "* Sportlase verest mõõdeti kasvuhormooni (*hGH*) kahte isovormi *recGH* ja *pitGH*. Millist teststatistikut kasutati? (Vihje: testi nimetati *hGH Isoform Ratio Test*)\n",
    "* Artiklis (sektsioonis *The hGH Doping Test*) on välja toodud neli eeldust, mis peaksid dopingutesti korral olema täidetud. Nimeta nende seast kaks ning selgita kummagi kohta lühidalt, miks need olulised on. \n",
    "* Oleme koostanud [skeemi](https://github.com/andmeteadus/2021/raw/master/examples/doping.png), mis võtab kokku artiklis kirjeldatud protsessi otsustuspiiride paikapanekust ja verifitseerimisest. Täida skeemis olevad lüngad a ja b. \n",
    "* Millised statistilised möödapanekud esinesid kasvuhormooni dopingutestis? Nimeta kaks.\n",
    "\n"
   ]
  },
  {
   "cell_type": "markdown",
   "metadata": {},
   "source": [
    "**<font color='red'>Vastus:</font>** Kirjuta vastus siia."
   ]
  },
  {
   "cell_type": "markdown",
   "metadata": {},
   "source": [
    "## <font color='red'>See oli viimane ülesanne! Palun jooksuta kogu Jupyter Notebook uuesti, et veenduda oma koodi töötamises! (`Kernel -> Restart and Run All`)</font>\n",
    "\n",
    "# Mida on vaja esitada?\n",
    "\n",
    "* I ja II osa kohta tuleb esitada vastustega Jupyter fail.\n",
    "\n",
    "Lahendused esitada [Moodle keskkonna](https://moodle.ut.ee/course/view.php?id=8013#section-1) kaudu."
   ]
  },
  {
   "cell_type": "markdown",
   "metadata": {},
   "source": [
    "\n",
    "## Lahendamise aeg\n",
    "\n",
    "Lisaks võiksid mainida, kui palju aega kulus osa I, II ja III peale. Mida arvad ülesannetest (kasulikkus, huvitavus)?"
   ]
  },
  {
   "cell_type": "markdown",
   "metadata": {},
   "source": [
    "**<font color='red'>Kodutöö I osa lahendamiseks kulus:</font>** X h\n",
    "\n",
    "**<font color='red'>Kodutöö II osa lahendamiseks kulus:</font>** X h\n",
    "\n",
    "Ülesanded olid ... \n",
    "\n",
    "Kas logistiline regressioon ja mitmese testimise korrektsioon olid sinu jaoks uued mõisted? \n",
    "\n",
    "Kuivõrd arusaadav oli nende idee?\n"
   ]
  },
  {
   "cell_type": "markdown",
   "metadata": {},
   "source": [
    "**Tänan vastamast!**"
   ]
  }
 ],
 "metadata": {
  "jupytext": {
   "cell_metadata_filter": "-all",
   "main_language": "python",
   "notebook_metadata_filter": "-all"
  },
  "kernelspec": {
   "display_name": "R",
   "language": "R",
   "name": "ir"
  },
  "language_info": {
   "codemirror_mode": "r",
   "file_extension": ".r",
   "mimetype": "text/x-r-source",
   "name": "R",
   "pygments_lexer": "r",
   "version": "4.0.4"
  }
 },
 "nbformat": 4,
 "nbformat_minor": 4
}
