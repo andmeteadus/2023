{
 "cells": [
  {
   "cell_type": "markdown",
   "metadata": {},
   "source": [
    "# III Kodutöö"
   ]
  },
  {
   "cell_type": "markdown",
   "metadata": {},
   "source": [
    "## Kuidas saada vähese vaevaga võimalikult häid hindeid?\n",
    "\n",
    "### Sissejuhatus\n",
    "\n",
    "See oli juba kolmas järjestikune öö, mil tudeng Keit \"Ogar\" Agarilt viis une õudusunenägu. \"Te olite võrdsed kandidaadid, kuid parema keskmise hinde tõttu võtsime tööle teise kandidaadi,\" ütles OÜ Tunnetuslik Homöopaatia personalijuht. Töö sai Keiti alumine naaber, kes õpib 15. sajandi inglise kirjandust. Keit arvab, et seegi unenägu võib olla täideminev ning tal on vaja head vastuargumenti personalijuhile. Äkki on mõnes valdkonnas kergem paremat hinnet saada, mõtles Keit.\n",
    "\n",
    "Ta teab, et finantsseisu parandamiseks ei saa lootma jääda vaid tööintervjuule. Mida teeks sellises olukorras tema ületee naaber, kes on saanud mitmeid EL toetusi ja sõidab kullatud istmesoojendusnupuga varustatud Mercedes-Benz maasturiga? Ilmselt uuriks, kuidas võimalikult vähese vaevaga parandada oma keskmist hinnet, et nii stipendiumit saada.\n",
    "\n",
    "Kuna kolm plaani on ikka parem kui kaks, mõtles Keit, mida võtaks ette tema ettevõtlik tuttav, kes juhib alkoholilaenutuse ettevõtet. Pärast pingsat mõtlemist süttis Keiti peas lambike: ehk teeks ta abistava rakenduse kasvavale tudengipopulatsioonile, kelle eesmärk on võimalikult lihtsalt diplom kätte saada? \n",
    "\n",
    "Selles praktikumis uurimegi:\n",
    "\n",
    "* millises valdkonnas/instituudis on kergem paremat hinnet saada?\n",
    "* kas on aineid, milles on märgatavalt kergem paremat hinnet saada?\n",
    "* kuidas teha veebirakendusi R-is?\n",
    "\n",
    "### Tutvumine andmestikuga\n",
    "\n",
    "Laadi alla andmestik [UT_19_20_hinded.csv](https://raw.githubusercontent.com/andmeteadus/2022/master/data/UT_19_20_hinded.csv). Selles andmestikus on 2019/2020 õppeaasta kõigi TÜ  õppeainete kohta kirjas üliõpilaste õppetulemuste jaotus. Lisaks on teada \n",
    "\n",
    "* semester (S - sügis/K - kevad)\n",
    "* valdkond (tunnus *AINE_VK*)\n",
    "    * HV\thumanitaarteaduste- ja kunstide valdkond\n",
    "    * SV\tsotsiaalteaduste valdkond\n",
    "    * MV\tmeditsiiniteaduste valdkond\n",
    "    * LT\tloodus- ja täppisteaduste valdkond\n",
    "* alamüksus, üldiselt instituut (tunnus *AINE_INST*)\n",
    "* aine kood\n",
    "* aine nimi\n",
    "* õppeainele registreerunud üliõpilaste õppetulemuste jaotus \n",
    "    - eristava hindamisega ainete jaoks veerud *hinne_A*, ..., *hinne_F* ja *mitteilmunud*\n",
    "    - mitteeristava hindamisega ainete jaoks veerud *arvestatud*, *mittearvestatud* ja *mitteilmunud*\n",
    "\n",
    "### Ülesanne 1 (4 punkti)\n",
    "\n",
    "Kas mõnes valdkonnas saavad üliõpilased paremaid hindeid kui mõnes teises? Kui palju erinevad hinded instituutide vahel (valdkondade lõikes)?  Kuidas seda visuaalselt kontrollida? Tee seda.\n",
    "\n",
    "Märkus: Vaatle ainult **eristava hindamisega** aineid."
   ]
  },
  {
   "cell_type": "code",
   "execution_count": null,
   "metadata": {},
   "outputs": [],
   "source": [
    "# Ülesanne 1\n",
    "# Sinu kood\n"
   ]
  },
  {
   "cell_type": "markdown",
   "metadata": {},
   "source": [
    "### Ülesanne 2 (4 punkti)\n",
    "\n",
    "Kas mõnes õppeaines saavad üliõpilased paremaid hindeid kui mõnes teises? Millistes ainetes täpsemalt? Visualiseeri. \n",
    "\n",
    "Juhised:\n",
    "\n",
    "* Vali välja sobiv joonisetüüp. Selleks võid kasutada mõnda eelmises ülesandes välja pakutud lahendust või pakkuda välja enda variandi. (Näiteks võid teha alloleva joonisega analoogilise joonise, ainult et valdkondade rollis oleksid õppeained)\n",
    "![](https://raw.githubusercontent.com/andmeteadus/2021/master/_praktikum3/oppeained/joonis3.png)\n",
    "* Vaatle väiksemat andmestikku, kus instituut (üksus) ja semester oleksid fikseeritud. Näiteks võid valida matemaatika ja statistika insituudi (LTMS) ning kevadsemestri.  \n",
    "(Järgmises ülesandes tuleb koodi natuke modifitseerida, et rakenduse kasutaja saaks ise valida teda huvitava instituudi ja semestri.)\n",
    "* Vaatle ainult selliseid eristava hindamisega aineid, millest võttis osa vähemalt 5 tudengit (st hinne on antud vähemalt 5 tudengile). \n",
    "* Leia iga õppeaine keskmine hinne. \n",
    "* Järjesta õppeained keskmise hinde põhjal. \n",
    "* Vali visualiseerimiseks välja TOP 25 ainet. \n",
    "* Praegu on õppeaine nimi selline faktor, mille tasemed on tähestikulises järjekorras. Aga ggplot2 joonise jaoks oleks hea, kui see oleks järjestatud keskmise hinde põhjal. (Näpunäide: kasuta funktsiooni `reorder`.)\n",
    "* Tee joonis. \n",
    "* Juhul, kui kasutad mõnda tulpdiagrammi, võib horisontaalne esitus osutuda efektiivsemaks kui vertikaalne. Abiks on `coord_flip()`. \n",
    "* Kirjuta eelnev kood funktsiooniks, mille sisendiks sobiks selline andmestik nagu oli failis *UT_19_20_hinded.csv*. Lisaks oleks sisendiks üksus (*AINE_INST*) ja semester. Funktsioon peab tagastama ggplot2 joonise. Kontrolli, kas funktsioon töötab. "
   ]
  },
  {
   "cell_type": "code",
   "execution_count": null,
   "metadata": {
    "eval": false,
    "lines_to_next_cell": 0
   },
   "outputs": [],
   "source": [
    "# Ülesanne 2\n",
    "plot_oppeained = function(data, yksus, sem){\n",
    "  # vali andmestikust data välja sellised read, \n",
    "  # kus uksus == yksus ja semester == sem\n",
    "  \n",
    "  # sinu kood\n",
    "  \n",
    "  # tagasta ggplot2 joonis\n",
    "}"
   ]
  },
  {
   "cell_type": "markdown",
   "metadata": {
    "lines_to_next_cell": 0
   },
   "source": [
    "### Ülesanne 3 (17 punkti) - Rakenduse loomine\n",
    "\n",
    "Alusta Shiny tutorialiga http://shiny.rstudio.com/tutorial/. Võimalusel on soovitatav läbi vaadata *Part 1* ja *Part 2* videod, kuid kodutöö sooritamiseks on piisav kasutada lehe lõpus olevaid *Shiny in seven lessons* materjale.\n",
    "\n",
    "1. Tööta läbi *lesson 1*. Juhime tähelepanu järgnevale.\n",
    "    - Kui sul ei tekkinud nuppu *Run App*, siis sulge RStudio ning ava uuesti. \n",
    "    - Paralleelselt alusta enda shiny rakenduse loomisega. Selleks tee enda kodutöö jaoks uus kaust ning salvesta sinna `app.R` (või `server.R` ja `ui.R`) näidisfail, mida hakkad edaspidi modifitseerima. \n",
    "    - Muuda enda rakenduse pealkiri vastavaks selle temaatikale. \n",
    "2. Tööta läbi *lesson 2*. Lisa peapaneeli:\n",
    "    - esimese taseme pealkiri \"Sissejuhatus\"\n",
    "    - tavalise tekstina lause, mis kirjeldaks lühidalt rakendust (näpunäide: vastav html termin on *paragraph*). \n",
    "\n",
    "Praeguseks võiks sinu rakendus välja näha umbes selline:\n",
    "![](https://raw.githubusercontent.com/andmeteadus/2021/master/_praktikum3/oppeained/shiny_1.png)\n",
    "\n",
    "3. Tööta läbi *lesson 3*. \n",
    "    * Lisa valikukast, mille abil saab rakenduse kasutaja valida üksust (instituuti). \n",
    "    * Lisa nupp, mille abil saab kasutaja valida, kas teda huvitavad sügis- või kevadsemestri ained.\n",
    "    \n",
    "Praeguseks võiks sinu rakendus välja näha umbes selline:\n",
    "![](https://raw.githubusercontent.com/andmeteadus/2021/master/_praktikum3/oppeained/shiny_2.png)\n",
    "\n",
    "4. Tööta läbi *lesson 4*. Uuri, kuidas kuvada erinevat tüüpi objekte.\n",
    "\n",
    "5. Tutvu *lesson 5*-st muuhulgas sellega, millist osa `server.R` failist jooksutatakse ainult üks kord ning millist korduvalt. \n",
    "\n",
    "    * Lisa oma rakenduse kataloogi kasutatava andmestiku fail (näiteks kas `csv` või `RData` failina).\n",
    "    * Loe see fail sisse, et kasutada seda rakenduses.\n",
    "    \n",
    "6. Kasuta nüüd ülesande 2 tulemusena valminud funktsiooni ning lisa joonis shiny väljundisse. Kutsu see funktsioon välja nii, et sisendid üksus ning semester vastaksid kasutaja poolt sisestatud väärtustele. \n",
    "\n",
    "Näpunäide: Joonise kuvamiseks tuleb kasutada funktsioone `plotOutput` ja `renderPlot`. (Kui soovid muuta joonise suurust, selleks on funktsioonil `renderPlot` argumendid `width` ja `height`.)\n",
    "\n",
    "Praeguseks võiks rakendus välja näha umbes selline (sõltub, millise joonise tüübi ülesandes 2 valisid):\n",
    "![](https://raw.githubusercontent.com/andmeteadus/2021/master/_praktikum3/oppeained/shiny_4.png)\n",
    "\n",
    "Et erinevate valdkondade joonised oleksid kohakuti (mõnedel ainetel on väga pikad nimed), võid aine nime asemel joonisel näidata aine nime algust (näiteks esimest *n* sümbolit, abiks on funktsioon `substr`). \n",
    "\n",
    "7. Täienda rakendust järgnevate lisadega:\n",
    "\n",
    "  - Lisa slaider, mille abil saab kasutaja valida, mitut TOP ainet ta näha soovib. \n",
    "  - Lisa nupp, mille abil saab kasutaja valida, kas teda huvitavad kõige paremate õppetulemustega või hoopis kõige halvemate õppetulemustega ained (neid viimaseid oleks ju vaja vältida). \n",
    "\n",
    "Lõpptulemus võiks välja näha umbes selline:\n",
    "![](https://raw.githubusercontent.com/andmeteadus/2021/master/_praktikum3/oppeained/shiny_5.PNG)\n",
    "\n",
    "Abiks on ka *Shiny Cheat Sheet* pdf, mis on kättesaadav [siit lehelt](http://www.rstudio.com/resources/cheatsheets/)\n",
    "\n",
    "Märkus: täienda seejuures funktsiooni `plot_oppeained()`:"
   ]
  },
  {
   "cell_type": "code",
   "execution_count": 1,
   "metadata": {
    "eval": false
   },
   "outputs": [],
   "source": [
    "# Ülesanne 3\n",
    "plot_oppeained = function(data, yksus, sem, mitu_ainet, parimad){\n",
    "  # vali andmestikust data välja sellised read, \n",
    "  # kus uksus == yksus ja semester == sem\n",
    "  \n",
    "  # Filtreeri nii mitu ainet, kui suur on slaideri abil määratud \n",
    "  # parameetri mitu_ainet väärtus, \n",
    "  # seejuures vastavalt parameetri parimad valikule kas \n",
    "  # kõige kõrgema või kõige madalama keskmisega ained\n",
    "  \n",
    "  \n",
    "  # tagasta ggplot2 joonis\n",
    "}"
   ]
  },
  {
   "cell_type": "markdown",
   "metadata": {},
   "source": [
    "### Näiteid Shiny rakendustest:\n",
    "\n",
    "* [BoxPlotR: a web-tool for generation of box plots](http://boxplot.tyerslab.com/). Väärib mainimist, et see rakendus avaldati teadusartiklina ajakirjas [*Nature Methods*](http://www.nature.com/nmeth/journal/v11/n2/full/nmeth.2811.html)\n",
    "* [ClustVis: a web tool for visualizing clustering of multivariate data](http://biit.cs.ut.ee/clustvis/)\n",
    "* [R Graph Catalog (ggplot2)](http://shinyapps.stat.ubc.ca/r-graph-catalog/)\n",
    "* [Tartu Ülikooli statistika](https://statistika.ut.ee/ut/)\n",
    "\n",
    "\n",
    "### Boonusülesanne 1: Interaktiivsus (**1 boonuspunkt**)\n",
    "\n",
    "Kuva rakenduses oleva staatilise joonise asemel interaktiivne joonis. Kõige lihtsam viis joonistele interaktiivsuse lisamiseks on kasutada [plotly](https://plot.ly/r/) funktsionaalsust, kus olemasolevale ggplot objektile saab rakendada funktsiooni *ggplotly()*. Tulpdiagrammide korral võib selline lähenemine anda aga mõnikord vigaseid tulemusi. Nende korral on soovitatav katsetada [highcharter](http://jkunst.com/highcharter/) võimekust. \n",
    "\n",
    "Ülevaade interaktiivsete jooniste võimalustest ja edasised viited on leitavad [siit](http://www.htmlwidgets.org/showcase_highcharts.html).    "
   ]
  },
  {
   "cell_type": "code",
   "execution_count": null,
   "metadata": {},
   "outputs": [],
   "source": [
    "# Boonusülesanne 1\n",
    "# Vii interaktiivsus sisse ülesandes 3 aga too siia näide, kuidas rakendasid 'plotly' paketti.\n",
    "\n",
    "# Sinu kood/kommentaar\n"
   ]
  },
  {
   "cell_type": "markdown",
   "metadata": {},
   "source": [
    "### Boonusülesanne 2: Kuidas optimeerida õppeaine tagasisidet?\n",
    "\n",
    "Õppejõud Peeter \"Bijektsioon\" Ratsionaalil kästi õppeaine ümber korraldada. Tema õpetatavate ainete tagasiside on siiani olnud kehv, kuid ta on veendunud, et see pole mitte viletsa õpetamise ja halva ainekorralduse tõttu, vaid et üliõpilased annavadki paremat tagasisidet sellistele ainetele, kus eriti midagi tegema ei pea ning kus saab vähese vaevaga häid hindeid. \n",
    "\n",
    "Uuri, kas Peetri väited peavad paika. See tähendab, et kas tõepoolest on tal lootust saada ainele paremat tagasisidet, kui selle töömaht on väiksem, kui ette nähtud, ning kui tudengitele panna paremaid hindeid. \n",
    "\n",
    "Laadi alla andmestik [UT_19_20_tagasiside.csv](https://raw.githubusercontent.com/andmeteadus/2022/master/data/UT_19_20_tagasiside.csv). (Praktikumis kasutatud andmestik oli selle alamandmestik.) Siin on toodud 2019/2020 õppeaasta kõigi TÜ õppeainete kohta (st nii eristava kui ka mitteeristava hindamisega):\n",
    "\n",
    "* semester (S - sügis/K - kevad)\n",
    "* valdkond (tunnus *AINE_VK*)\n",
    "    * HV\thumanitaarteaduste- ja kunstide valdkond\n",
    "    * SV\tsotsiaalteaduste valdkond\n",
    "    * MV\tmeditsiiniteaduste valdkond\n",
    "    * LT\tloodus- ja täppisteaduste valdkond\n",
    "* alamüksus, üldiselt instituut (tunnus *AINE_INST*)\n",
    "* aine kood    \n",
    "* aine nimi\n",
    "* õppeaine töömahtu puudutava tagasiside küsimuse vastuste jaotus\n",
    "    - *toomaht_0* - Ei kehti\n",
    "    - *toomaht_1* - aine töömaht oli liiga suur\n",
    "    - *toomaht_2* - aine töömaht oli paras\n",
    "    - *toomaht_3* - aine töömaht oli liiga väike\n",
    "* tagasiside küsimuse \"Kokkuvõttes oli õppeaine minu jaoks väärtuslik.\" tulemuste jaotus\n",
    "    - *vaartus_0* - Ei kehti\n",
    "    - *vaartus_1* - Ei nõustu\n",
    "    - *vaartus_2* - Pigem ei nõustu\n",
    "    - *vaartus_3* - Pigem nõustun\n",
    "    - *vaartus_4* - Nõustun\n",
    "* õppeainele registreerunud üliõpilaste õppetulemuste jaotus \n",
    "    - eristava hindamisega ainete jaoks veerud *hinne_A*, ..., *hinne_F* ja *mitteilmunud*\n",
    "    - mitteeristava hindamisega ainete jaoks veerud *arvestatud*, *mittearvestatud* ja *mitteilmunud*\n",
    "\n",
    "Ülesanded:\n",
    "\n",
    "a. (**2 boonuspunkti**) Uuri, kas õppeaine tagasiside skoor üleüldse sõltub aine töömahust, ning kas ette nähtust väiksem töömaht tagab ainele parema tagasiside. Visualiseeri. "
   ]
  },
  {
   "cell_type": "code",
   "execution_count": null,
   "metadata": {},
   "outputs": [],
   "source": [
    "# Ülesanne B2a\n",
    "# Sinu kood\n"
   ]
  },
  {
   "cell_type": "markdown",
   "metadata": {},
   "source": [
    "b. (**2 boonuspunkti**) Uuri, kas õppeainele antud tagasiside üleüldse sõltub tudengite õppetulemustest seal aines, ning milline see sõltuvus on. Visualiseeri. "
   ]
  },
  {
   "cell_type": "code",
   "execution_count": null,
   "metadata": {},
   "outputs": [],
   "source": [
    "# Ülesanne B2b\n",
    "# Sinu kood\n"
   ]
  },
  {
   "cell_type": "markdown",
   "metadata": {},
   "source": [
    "### Boonusülesanne 3 (**2 boonuspunkti**)\n",
    "\n",
    "Esita kogu kodutöö *Shiny Dashboard*'i abil, kus ülesanne 3 ja soovi korral boonusülesanne 2 on eraldi tabide (*menuItem()*) all. Töötava lahenduse korral esita ülesande 3 Shiny rakenduse failid, st kogu kodutöö on vormistatud *dashboard*'i abil\n",
    "\n",
    "Juhis, kuidas ehitada *Shiny Dashboard*'i, on leitav [siit](https://rstudio.github.io/shinydashboard/get_started.html)."
   ]
  },
  {
   "cell_type": "code",
   "execution_count": null,
   "metadata": {},
   "outputs": [],
   "source": [
    "# Boonusülesanne 3\n",
    "# Kasuta Shiny Dashboardi ülesandes 3 aga too siia näide, kuidas rakendasid 'shinydashboard' paketti.\n",
    "\n",
    "# Sinu kood/kommentaar"
   ]
  },
  {
   "cell_type": "markdown",
   "metadata": {},
   "source": [
    "## <font color='red'>See oli viimane ülesanne! Palun jooksuta kogu Jupyter Notebook uuesti, et veenduda oma koodi töötamises! (`Kernel -> Restart and Run All`)</font>\n",
    "\n",
    "\n",
    "# Mida on vaja esitada?\n",
    "\n",
    "* Ülesande 3 kohta tuleb esitada zip või rar fail, kus oleks kõik, mis vajalik shiny rakenduse töötamiseks, sealhulgas *app.R* (või *server.R* ja *ui.R*) ning andmestiku fail. **NB! Nimeta fail(id) ümber kujule `<matrikli nr>_app.R` (või `<matrikli nr>_ui.R`/`<matrikli nr>_server.R`) (nt A12345_app.R).**\n",
    "* Ülejäänud ülesannete kohta tuleb esitada andmeanalüüsi kood Jupyter Notebook failis.\n",
    "\n",
    "Lahendused esitada [Moodle keskkonna](https://moodle.ut.ee/course/view.php?id=8013#section-1) kaudu.\n",
    "\n",
    "## Lahendamise aeg\n",
    "\n",
    "Lisaks võiksid mainida, kui palju aega kulus kodutöö peale."
   ]
  },
  {
   "cell_type": "markdown",
   "metadata": {},
   "source": [
    "**<font color='red'>Kodutöö lahendamiseks kulus:</font>** X h\n"
   ]
  },
  {
   "cell_type": "markdown",
   "metadata": {},
   "source": [
    "**Tänan vastamast!**"
   ]
  }
 ],
 "metadata": {
  "jupytext": {
   "cell_metadata_filter": "-all",
   "main_language": "python",
   "notebook_metadata_filter": "-all"
  },
  "kernelspec": {
   "display_name": "R",
   "language": "R",
   "name": "ir"
  },
  "language_info": {
   "codemirror_mode": "r",
   "file_extension": ".r",
   "mimetype": "text/x-r-source",
   "name": "R",
   "pygments_lexer": "r",
   "version": "3.6.1"
  }
 },
 "nbformat": 4,
 "nbformat_minor": 4
}
