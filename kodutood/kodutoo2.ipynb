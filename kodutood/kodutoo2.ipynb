{
 "cells": [
  {
   "cell_type": "markdown",
   "metadata": {},
   "source": [
    "# II Kodutöö"
   ]
  },
  {
   "cell_type": "markdown",
   "metadata": {},
   "source": [
    "\n",
    "# I osa - veebiloengud, videod, artiklid (4 punkti)\n",
    "\n",
    "1. (**3 punkti**) Vaata Johns Hopkinsi andmeanalüüsi kursuse videosid:\n",
    "\n",
    "* [The ggplot2 Plotting System - Part 2 (1/3)](https://www.youtube.com/watch?v=zLwrYvH2Hg0&list=PLjTlxb-wKvXPhZ7tQwlROtFjorSj9tUyZ&index=13)\n",
    "* [The ggplot2 Plotting System - Part 2 (2/3)](https://www.youtube.com/watch?v=Z3WP_Up8b5I&list=PLjTlxb-wKvXPhZ7tQwlROtFjorSj9tUyZ&index=14)\n",
    "* [The ggplot2 Plotting System - Part 2 (3/3)](https://www.youtube.com/watch?v=gU8w0gjSx40&list=PLjTlxb-wKvXPhZ7tQwlROtFjorSj9tUyZ&index=15)\n",
    "\n",
    "Nimeta kolm kasulikku teadmist, mis videotest teada said. Juhul kui sa kõike juba teadsid, siis nimeta kolm sellist videos mainitud teadmist, mida sa kõige sagedamini kasutad."
   ]
  },
  {
   "cell_type": "markdown",
   "metadata": {},
   "source": [
    "**<font color='red'>Vastus:</font>** Kirjuta vastus siia."
   ]
  },
  {
   "cell_type": "markdown",
   "metadata": {},
   "source": [
    "2. (**1 punkt**) Vaata https://www.youtube.com/watch?v=5Dnw46eC-0o\n",
    "\n",
    "Võta selle video idee ühe lausega kokku."
   ]
  },
  {
   "cell_type": "markdown",
   "metadata": {},
   "source": [
    "**<font color='red'>Vastus:</font>** Kirjuta vastus siia."
   ]
  },
  {
   "cell_type": "markdown",
   "metadata": {},
   "source": [
    "\n",
    "# II osa (10 punkti)\n",
    "\n",
    "Lahenda praktikumis alustatud [*Growth in a Time of Debt*](https://andmeteadus.github.io/2021/praktikum2_riigivolg/) ülesanded."
   ]
  },
  {
   "cell_type": "markdown",
   "metadata": {},
   "source": [
    "**<font color='red'>Vastus:</font>** Kirjuta vastus siia."
   ]
  },
  {
   "cell_type": "markdown",
   "metadata": {},
   "source": [
    "## Sissejuhatus\n",
    "\n",
    "Kati \"Makro\" Ökonoomika on tavaline Eesti naine, kes saab kõigega hakkama: ta kasvatab üksi last, maksab koguperelaenu ning töötab Euroopa Komisjoni struktuuriüksuses ametnikuna. 2013. aasta alguses andis Olli Rehn, üks toonastest 28-st Euroopa Komisjoni volinikust, talle ülesandeks uurida võlakoorma mõju majanduskasvule.\n",
    "\n",
    "Kati teadis, et hea uurimus peab põhinema andmetel, mitte ekspertide kõhutundel. Peagi leidis ta artikli [*Growth in a Time of Debt*](http://www.nber.org/papers/w15639), mille põhitulemuseks oli, et kõrgem riigivõlg on seotud madalama majanduskasvuga ning väga probemaatiline on riigivõlg, mis on üle 90% SKP-st. Artikkel tundus usaldusväärne, sest artikli autoriteks on tunnustatud majandusteadlased Harvardist, artiklit oli tsiteeritud sel hetkel juba üle 500 korra ning see põhines 50-aastasel perioodil.\n",
    "\n",
    "Juba 9. aprillil 2013 kasutas Olli Rehn oma kõnes Rahvusvahelisele Tööorganisatsioonile Kati leitut:\n",
    "\n",
    "> public debt in Europe is expected to stabilise only by 2014 and to do so at above 90% of GDP. Serious empirical research has shown that at such high levels, public debt acts as a permanent drag on growth.\n",
    "\n",
    "Kati tundis, et ta oma tööd hästi teinud ja unistas aastalõpu boonusest. Tema sisemine rahulolu jäi aga üürikeseks. Majandusteadlased (Herndon, Ash, Pollin) ülikoolist UMass Amherst avaldasid teadusartikli, kus väitsid, et Reinhart-Rogoffi metoodikas on tõsiseid vigu sees, alustades Exceli arvutusveast, andmete väljajätmisest ja valest kaalumismeetodist. Majandusteemalised ajalehed olid täis kriitilisi kommentaare, sest Exceli viga on ju hoomatav kõigile.\n",
    "\n",
    "![alt text](https://raw.githubusercontent.com/andmeteadus/2020/master/_praktikum2/riigivolg/reinhart_rogoff_coding_error.png \"Näide\")\n",
    "\n",
    "Moodustati kriisikomisjon, mida pandi juhtima Kati. Vaja on teha suurele hulgale poliitikutele võimalikult lihtsasti selgeks, mille vastu eksisid Reinhart-Rogoff ja kui palju esialgsed tulemused muutusid.\n",
    "\n",
    "## Tutvumine andmestikuga\n",
    "\n",
    "20 arenenud riigi kohta on teada SKP kasvunumber ja võlakoorma-SKP suhe aastatel 1946-2009. Andmestikus on järgnevad tunnused:\n",
    "\n",
    "* *riik*: mis riigi kohta näitajad on toodud\n",
    "* *aasta*: mis aasta kohta käivad SKP kasv ja võlakoorma-SKP suhe\n",
    "* *vola_skp_suhe*: võlakoorma ja SKP suhe protsentides\n",
    "* *skp_kasv*: SKP kasvunumber\n",
    "* *exceli_viga*: binaarne tunnus, mis näitab, kas andmepunkt jäi RR analüüsist välja Exceli *arvutusvea* tõttu (kui on 1, siis jäi välja)\n",
    "* *valikuline*: binaarne tunnus, mis näitab, kas andmepunkt jäi RR analüüsist välja (HAP väitel selekteerimise tõttu, RR väitel, et neid andmeid analüüsi tegemise ajal polnud. Kui on 1, siis jäi RR analüüsist välja.)\n",
    "\n",
    "Laadi alla andmestik [skp_ja_volg.csv](https://raw.githubusercontent.com/andmeteadus/2020/master/data/skp_ja_volg.csv) ja loe töökeskkonda."
   ]
  },
  {
   "cell_type": "markdown",
   "metadata": {},
   "source": [
    "### Ülesanne 1.1 (2 punkti) - RR ja HAP tulemuste reprodutseerimine\n",
    "\n",
    "Kontrolli, kas suudad reprodutseerida RR ja HAP tulemused.\n",
    "Praktikumis tutvusime paketi *dplyr* [%>% operaatoriga](https://andmeteadus.github.io/2021/praktikum1_dplyr). Soovitame seda kasutada selle ülesande lahendamisel.\n",
    "\n",
    "Juhised: \n",
    "\n",
    "* Lisa uus tunnus, mis näitab *vola_skp_suhe* kategooriat (`< 30%`, `30-60%`, `60-90%`, `> 90%`). Näpunäide: kasuks tuleb käsk `cut`.\n",
    "* kaalumisviisid  \n",
    "HAP kaalub igas kategoorias andmepunkte võrdselt (ehk võtab tavalise aritmeetilise keskmise), RR arvutab igas grupis riikide keskmise ja võtab neist aritmeetilise keskmise.\n",
    "\n",
    "![alt text](https://raw.githubusercontent.com/andmeteadus/2020/master/_praktikum2/riigivolg/kaalumine.png \"Näide\")\n",
    "\n",
    "* RR-i tulemuste reprodutseerimiseks jäta arvutustest välja andmepunktid, mis jäid välja Exceli vea tõttu (vt tunnus *exceli_viga*) ja andmete puudumise tõttu (vt tunnus *valikuline*).\n",
    "\n",
    "- RR tegid ka kopeerimisvea: kopeerides riikide keskmisi ühest Exceli tabelist teise, muutus Uus-Meremaa keskmine SKP tõus grupis *\"> 90%\"* väärtuselt -7.6 väärtuseks -7.9. (Näpunäide: kasuks tuleb käsk `ifelse`.)"
   ]
  },
  {
   "cell_type": "code",
   "execution_count": 1,
   "metadata": {},
   "outputs": [],
   "source": [
    "# Ülesanne 1.1\n",
    "# sinu kood\n"
   ]
  },
  {
   "cell_type": "markdown",
   "metadata": {},
   "source": [
    "Peaksid saama sellise tulemuse"
   ]
  },
  {
   "cell_type": "code",
   "execution_count": 2,
   "metadata": {
    "hide_input": true,
    "lines_to_next_cell": 2,
    "tags": [
     "remove_input"
    ]
   },
   "outputs": [
    {
     "data": {
      "text/plain": [
       "\n",
       "\n",
       "|group  | RR_mean| RR_median| HAP_mean| HAP_median|\n",
       "|:------|-------:|---------:|--------:|----------:|\n",
       "|<30%   |     4.1|       4.2|      4.2|        4.1|\n",
       "|30-60% |     2.9|       3.0|      3.1|        3.1|\n",
       "|60-90% |     3.4|       3.1|      3.2|        2.9|\n",
       "|>90%   |    -0.1|       1.6|      2.2|        2.3|"
      ]
     },
     "metadata": {},
     "output_type": "display_data"
    }
   ],
   "source": [
    "library(knitr)\n",
    "suppressMessages(library(ggplot2))\n",
    "# mediaanid tabelist 1: http://www.peri.umass.edu/fileadmin/pdf/working_papers/working_papers_301-350/PERI_TechnicalAppendix_April2013.pdf\n",
    "# keskmised jooniselt 1: http://www.peri.umass.edu/fileadmin/pdf/working_papers/working_papers_301-350/WP322.pdf\n",
    "df = data.frame(group=c(\"<30%\", \"30-60%\", \"60-90%\", \">90%\"),\n",
    "                RR_mean=c(4.1, 2.9, 3.4, -0.1),\n",
    "                RR_median=c(4.2, 3.0, 3.1, 1.6),\n",
    "                HAP_mean=c(4.2, 3.1, 3.2, 2.2),\n",
    "                HAP_median=c(4.1, 3.1, 2.9, 2.3))\n",
    "kable(df)"
   ]
  },
  {
   "cell_type": "markdown",
   "metadata": {},
   "source": [
    "### Ülesanne 1.2 (1 punkt) - visualiseeri võlakoormuse muutumist ajas\n",
    "\n",
    "Visualiseeri, kuidas võlakoorem on aastate jooksul muutunud riikide lõikes"
   ]
  },
  {
   "cell_type": "code",
   "execution_count": 3,
   "metadata": {},
   "outputs": [],
   "source": [
    "# Ülesanne 1.2\n",
    "# sinu kood\n"
   ]
  },
  {
   "cell_type": "markdown",
   "metadata": {},
   "source": [
    "## Kuidas efektiivselt visualiseerida ...\n",
    "\n",
    "Järgnevalt püüame leida parima viisi, kuidas efektiivselt visualiseerida\n",
    "\n",
    "1. millised vaatlused jäid RR analüüsist välja\n",
    "2. kuivõrd erinesid RR ja HAP analüüside tulemused\n",
    "3. kas võlakoormus suurem kui 90% on maagilise tähtsusega (st kas piir on just täpselt 90%)\n",
    "4. milline on seos SKP ja võlakoormuse vahel\n",
    "\n",
    "### Ülesanne 1.3 (1 punkt) - millised vaatlused jäid RR analüüsist välja"
   ]
  },
  {
   "cell_type": "code",
   "execution_count": 4,
   "metadata": {},
   "outputs": [],
   "source": [
    "# Ülesanne 1.3\n",
    "# sinu kood\n"
   ]
  },
  {
   "cell_type": "markdown",
   "metadata": {},
   "source": [
    "### Boonusülesanne B1.1 (2 punkti) - kuidas erinesid RR ja HAP analüüside tulemused\n",
    "\n",
    "HAPi raportis kasutati vasakpoolset joonist, et visualiseerida RR ja HAP tulemuste erinevusi. NY times pani samale joonisele aga mediaani ja keskmise (parempoolne joonis)! Paku välja parem visualiseerimise idee, kuidas muuta arusaadavaks tulemuste erinevus.\n",
    "\n",
    "![alt text](https://raw.githubusercontent.com/andmeteadus/2020/master/_praktikum2/riigivolg/HAP_NYtimes.png \"Näide\")\n",
    "\n",
    "> Praktikumis pakuti välja sarnane joonis NY Times joonisega, aga joondiagrammi asemel kasutame tulpdiagrammi ning mediaanide ja aritmeetiliste keskmiste kohta teeme eraldi joonised. Kuna see meetod nõuab oskusi, mida me ei käsitlenud tunni raames, jääb see ülesanne boonusülesandeks.\n",
    "\n",
    "Vihje:"
   ]
  },
  {
   "cell_type": "code",
   "execution_count": 5,
   "metadata": {
    "eval": false,
    "hide_input": true,
    "lines_to_next_cell": 2
   },
   "outputs": [
    {
     "data": {
      "image/png": "[encoded data removed]",
      "text/plain": [
       "plot without title"
      ]
     },
     "metadata": {},
     "output_type": "display_data"
    }
   ],
   "source": [
    "df = data.frame(analyys=c(\"RR\", \"RR\", \"HAP\", \"HAP\"),\n",
    "                mediaan = c(1, 2, 3, 4),\n",
    "                grupp=c(\"30\", \"60\", \"30\", \"60\"))\n",
    "\n",
    "ggplot(df, aes(x=grupp, y=mediaan, fill=analyys)) + \n",
    "  geom_bar(position=\"dodge\", stat=\"identity\")"
   ]
  },
  {
   "cell_type": "code",
   "execution_count": 6,
   "metadata": {},
   "outputs": [],
   "source": [
    "# Ülesanne B1.1\n",
    "# sinu kood\n"
   ]
  },
  {
   "cell_type": "markdown",
   "metadata": {},
   "source": [
    "### Ülesanne 1.4 (2 punkti) - kas võlakoormus suurem kui 90% on maagilise tähtsusega\n",
    "\n",
    "> Our main finding is that across both advanced countries and emerging markets, high debt/GDP levels (90 percent and above) are associated with notably lower growth outcomes.\n",
    "\n",
    "Selgitage välja, kas täpselt 90% on just see piir, millest suurem võlakoormus on seotud madalama SKP kasvuga, või on see suhteliselt suvaliselt valitud arv? \n",
    "\n",
    "Üks võimalik lahendusviis: Tekitage uus kategooria, kus võlg jaotatakse 5 gruppi: `< 30%`, `30-60%`, `60-90%`, `90-120%`, `> 120%`). Arvutage iga grupi kohta mediaanid ja keskmised kasutades RR kaalumisviisi. **NB!** Jätta seekord sisse kõik RR vigadest tingitud vaatlused (Exceli viga) ja kaasake subjektiivsest valikust välja jäetud riigid."
   ]
  },
  {
   "cell_type": "code",
   "execution_count": 7,
   "metadata": {},
   "outputs": [],
   "source": [
    "# Ülesanne 1.4\n",
    "# sinu kood\n"
   ]
  },
  {
   "cell_type": "markdown",
   "metadata": {},
   "source": [
    "### Ülesanne 1.5 (4 punkti) - Kuidas visuaalselt uurida, milline on seos SKP ja võlakoormuse vahel?\n",
    "\n",
    "Kõigepealt, tehke joonis, kus oleks näha seos SKP ja võlakoormuse vahel. Seose iseloomustamiseks võite kasutada `stat_smooth()` abil leitavat joont. \n",
    "\n",
    "Näinud seost andmestikus, tekib küsimus, ega see seos ei ole lihtsalt juhuslik. Ehk kas vaadeldud seos erineb oluliselt seostest sellistes andmestikes, kus tegelikult SKP ja võlakoormuse vahel mingisugust seost ei eksisteeri. \n",
    "\n",
    "Selle visuaalseks kontrollimiseks võime kasutada järgmist skeemi. See põhineb permutatsioonitestil, mille kohta vaadake esmalt [kodutöö osa I](https://andmeteadus.github.io/2021/praktikum2_kodutoo/) videot https://www.youtube.com/watch?v=5Dnw46eC-0o\n",
    "\n",
    "Skeem:\n",
    "\n",
    "* Nullhüpotees on, et SKP ja riigivõla vahel seos puudub. \n",
    "* Genereerime meie andmetest permuteerimise teel sellise andmestiku, mis vastab nullhüpoteesile. Näiteks võib fikseerida SKP väärtused ning neile vastavusse seatavad riigivõla väärtused permuteerida. (Näpunäide: permuteerimisel on kasuks funktsioon `sample`.) Järgneval joonisel on näidatud tegelik andmestik ning permuteeritud andmestik (permuteeritud andmestik on saadud, kui on fikseeritud x-tunnus, aga y-tunnused on segamini aetud.)\n",
    "\n",
    "![alt text](https://raw.githubusercontent.com/andmeteadus/2020/master/_praktikum2/riigivolg/permuteeritud_vs_tegelik_andmestik.png \"Näide\")\n",
    "\n",
    "* Leidke eelmises punktis genereeritud andmestikul `stat_smooth` hinnang. \n",
    "* Korrake eelnevat näiteks 100 korral ning kandke leitud 100 joont joonisele. Võrdluseks lisage esialgsetel andmetel leitud joon teise värviga. Lõpptulemus võiks tulla sarnane järgmise joonisega:\n",
    "\n",
    "![alt text](https://raw.githubusercontent.com/andmeteadus/2020/master/_praktikum2/riigivolg/permuteerimine_tulemus.png \"Näide\")"
   ]
  },
  {
   "cell_type": "code",
   "execution_count": 8,
   "metadata": {},
   "outputs": [],
   "source": [
    "# Ülesanne 1.5\n",
    "# sinu kood\n"
   ]
  },
  {
   "cell_type": "markdown",
   "metadata": {},
   "source": [
    "\n",
    "# III osa (11 punkti)\n",
    "\n",
    "Lahenda [pettuse tuvastamise ülesanded](https://andmeteadus.github.io/2021/praktikum2_pettus/). \n"
   ]
  },
  {
   "cell_type": "markdown",
   "metadata": {},
   "source": [
    "## Sissejuhatus\n",
    "\n",
    "Markus \"Märul\" Veekahuri isa on politseinik, ema on politseinik, mõlemad vanaemad on politseinikud ja õde on politseinik.\n",
    "Algul vaadati viltuselt Markuse soovile ülikooli statistikat õppima minna, kuid pärast kahte kuud vaikimist vahetati telefoni teel esimene \"tere\" ning lepiti uuesti ära.\n",
    "\n",
    "Kuid nagu elus ikka, ei kuku käbi kännust kaugele. Markus läks tööle Politsei- ja Piirivalveametisse ning tema igapäevatööks sai pettuste tuvastamine, kasutades statistilisi meetodeid.\n",
    "Tema ametirelvaks on Benfordi seadus.\n",
    "\n",
    "Benfordi seadus (sageli nimetatud kui esimese numbri seadus) kirjeldab arvu esimese numbri sagedust. Paljudes reaalsetes andmetes esineb number 1 esinumbrina umbes 30% juhtudest ning iga järgneva numbri sagedus kahaneb monotoonselt.\n",
    "\n",
    "![](https://raw.githubusercontent.com/andmeteadus/2020/master/_praktikum2/pettus/benfordi_seadus.png \"Näide\")\n",
    "\n",
    "Empiiriliselt on näidatud, et Benfordi seadus kehtib näiteks aktsiahindade, jõgede pikkuse, riikide rahvaarvu andmetel. Järgneval joonisel on toodud kaks näidet Benfordi seaduse *kehtimisest*."
   ]
  },
  {
   "cell_type": "code",
   "execution_count": 9,
   "metadata": {
    "hide_input": true,
    "tags": [
     "hide_input"
    ]
   },
   "outputs": [
    {
     "data": {
      "image/png": "[encoded data removed]",
      "text/plain": [
       "plot without title"
      ]
     },
     "metadata": {},
     "output_type": "display_data"
    }
   ],
   "source": [
    "suppressWarnings(suppressMessages(library(gridExtra)))\n",
    "suppressWarnings(suppressMessages(library(dplyr)))\n",
    "df1 = data.frame(x=factor(c(1:9)),\n",
    "                y=c(32.62, 16.66, 11.8, 9.26, 7.63, 6.55, 5.76, 5.14, 4.56))\n",
    "p1 = ggplot(df1, aes(x=x, weight=y)) + geom_bar() + ggtitle(\"Twitteri kasutajaid jälgijate arvu lõikes \\n\") +\n",
    "  scale_x_discrete(\"Esimene number\") + scale_y_continuous(\"\") + theme(text = element_text(size=11))\n",
    "\n",
    "df1 = data.frame(x=factor(c(1:9)),\n",
    "                y=c(31.57, 18.12, 11.88, 9.35, 7.84, 6.09, 5.78, 4.83, 4.53))\n",
    "p2 = ggplot(df1, aes(x=x, weight=y)) + geom_bar() + ggtitle(\"Riikide SKP suurus \\n\") + \n",
    "  scale_x_discrete(\"Esimene number\") + scale_y_continuous(\"\") + theme(text = element_text(size=11))\n",
    "\n",
    "grid.arrange(p1, p2, nrow=1)"
   ]
  },
  {
   "cell_type": "markdown",
   "metadata": {},
   "source": [
    "Markuse ametivennad on järeldanud Benfordi seadusest kõrvalekaldumisest, et Kreeka on võltsinud makromajanduslikke näitajaid või et Iraani valimised olid ebaausad. Benfordi seadusest saad täpsemalt lugeda [Vikipeediast.](http://en.wikipedia.org/wiki/Benford%27s_law)\n",
    "\n",
    "Selles kodutöös on sinu ülesandeks uurida: \n",
    "\n",
    "* kas Benfordi seaduse põhjal võib väita, et FIE-d on võltsinud maksunäitajaid, \n",
    "* kas Benfordi seaduse põhjal võib väita, et 2017. aasta kohaliku omavalitsuse volikogu valimistel toimus pettus.\n",
    "\n",
    "Kuna ülesannetes on vaja teha *ggplot2* abil jooniseid, soovitame esmalt vaadata ära osa III videod *ggplot2* kohta. \n",
    "\n",
    "## Maksude andmestik\n",
    "\n",
    "Loe sisse Maksu- ja Tolliameti 2014. aasta [maksude andmestik](https://raw.githubusercontent.com/andmeteadus/2021/master/data/maksude_andmestik.csv) ja tutvu andmetega. Andmestikus on järgnevad tunnused:\n",
    "\n",
    "* *registrikood*: juriidilise isiku registrikood\n",
    "* *nimi*: juriidilise isiku nimi\n",
    "* *liik*: kas tegemist on äriühingu, MTÜ, FIE vms\n",
    "* *kaibemaksukohuslane*: kas juriidiline isik on käibemaksukohuslane\n",
    "* *maakond*: millises maakonnas on juriidiline isik registreeritud\n",
    "* *riiklikud_maksud*: käibemaks, tollimaks jne\n",
    "* *toojoumaksud_ja_maksed*: sotsiaalmaks, töötuskindlustusmakse jne"
   ]
  },
  {
   "cell_type": "markdown",
   "metadata": {},
   "source": [
    "### Ülesanne 2.1 (2 punkti)\n",
    "\n",
    "Tee 3 joonist, mis iseloomustavad hästi seda andmestikku. Iga joonise juurde kirjuta üks lause, mida see joonis sinu arvates näitab."
   ]
  },
  {
   "cell_type": "code",
   "execution_count": 10,
   "metadata": {},
   "outputs": [],
   "source": [
    "# Ülesanne 2.1\n",
    "# sinu kood\n"
   ]
  },
  {
   "cell_type": "markdown",
   "metadata": {},
   "source": [
    "### Ülesanne 2.2 (2 punkti) \n",
    "\n",
    "Kontrolli visuaalselt Benfordi seaduse kehtimist tunnustel *riiklikud_maksud* ja *toojoumaksud_ja_maksed*. Selleks tekita esinumbrite histogramm. Nulliga võrduvad väärtused jäta kõrvale. Tee vastav joonis ka FIE-de, äriühingute jne lõikes (vt tunnus *liik*).\n",
    "\n",
    "Kommenteeri tulemusi. \n",
    "\n",
    "Kas sellest võib järeldada, et FIE-d jahmerdavad maksudega?\n",
    "\n",
    "**Näpunäide:** esimest numbrit aitab eraldada näiteks funktsioon `substr`."
   ]
  },
  {
   "cell_type": "code",
   "execution_count": 11,
   "metadata": {},
   "outputs": [],
   "source": [
    "# Ülesanne 2.2\n",
    "# sinu kood\n"
   ]
  },
  {
   "cell_type": "markdown",
   "metadata": {},
   "source": [
    "## 2017 KOV valimiste hääletustulemuste andmestik\n",
    "\n",
    "Loe sisse [andmestik](https://raw.githubusercontent.com/andmeteadus/2021/master/data/KOV_valimised_2017.csv) ja tutvu andmetega. Andmestikus on järgnevad tunnused:\n",
    "\n",
    "* *nimi* - kandidaadi nimi\n",
    "* *nr* - kandidaadi number\n",
    "* *Maakond*\n",
    "* *Omavalitsus*\n",
    "* *Kood* - omavalitsuse kood\n",
    "* *nimekiri* - partei või valimisliit, kuhu kandidaat kuulub\n",
    "* *paberhaali* - kandidaadi poolt saadud paberhäälte arv\n",
    "* *ehaali* - kandidaadi poolt saadud e-häälte arv\n",
    "* *valitud* - kas kandidaat osutus valituks (*true*) või mitte (*false*)"
   ]
  },
  {
   "cell_type": "markdown",
   "metadata": {},
   "source": [
    "### Ülesanne 2.3 (2 punkti)\n",
    "\n",
    "* Esmalt tee juurde tunnus, mis näitab kandidaadile antud koguhäälte arvu (paberhäälte ja e-häälte summa). \n",
    "* Seejärel tekita tunnus, mille väärtusteks on *Eesti Keskerakond*, *Eesti Reformierakond*, *Sotsiaaldemokraatlik Erakond*, *Erakond Isamaa ja Res Publica Liit*, *Eesti Konservatiivne Rahvaerakond* ja *Muu*, st väiksemad erakonnad ja valimisliidud on ühte gruppi kokku võetud.\n",
    "* Tee 3 joonist, mis iseloomustavad hästi seda andmestikku. Iga joonise juurde kirjuta üks lause, mida see joonis sinu arvates näitab."
   ]
  },
  {
   "cell_type": "code",
   "execution_count": 12,
   "metadata": {
    "lines_to_next_cell": 2
   },
   "outputs": [],
   "source": [
    "# Ülesanne 2.3\n",
    "# sinu kood\n"
   ]
  },
  {
   "cell_type": "markdown",
   "metadata": {},
   "source": [
    "### Ülesanne 2.4 (2 punkti)\n",
    "\n",
    "Kontrolli visuaalselt Benfordi seaduse kehtimist: \n",
    "\n",
    "* e-häälte arvul,\n",
    "* paberhäälte arvul,\n",
    "* koguhäälte arvul.\n",
    "\n",
    "Seejärel tee eelnevad joonised ka erakondade kaupa. Kommenteeri tulemusi."
   ]
  },
  {
   "cell_type": "code",
   "execution_count": 13,
   "metadata": {
    "lines_to_next_cell": 2
   },
   "outputs": [],
   "source": [
    "# Ülesanne 2.4\n",
    "# sinu kood\n"
   ]
  },
  {
   "cell_type": "markdown",
   "metadata": {},
   "source": [
    "### Ülesanne 2.5 (3 punkti) \n",
    "\n",
    "Tee järgnevale joonisele võimalikult sarnane.\n",
    "\n",
    "![](https://raw.githubusercontent.com/andmeteadus/2020/master/_praktikum2/pettus/erakonnad.png \"Näide\")"
   ]
  },
  {
   "cell_type": "code",
   "execution_count": 14,
   "metadata": {
    "message": false,
    "tags": [
     "remove_input"
    ],
    "warning": false
   },
   "outputs": [],
   "source": [
    "# Ülesanne 2.5\n",
    "# Sinu kood\n"
   ]
  },
  {
   "cell_type": "markdown",
   "metadata": {},
   "source": [
    "Näpunäited:\n",
    "\n",
    "* Log-skaala kasutamiseks uuri [järgmisi ggplot2 näiteid.](https://ggplot2.tidyverse.org/reference/scale_continuous.html)\n",
    "* Legendi peitmiseks uuri [järgmisi ggplot2 näiteid.](https://ggplot2.tidyverse.org/reference/theme.html)  (märksõnaks on `legend.position`)\n",
    "* Käsuga `facet_wrap` saab joonise jaotada tükkideks (Mõned [näited](https://ggplot2.tidyverse.org/reference/facet_wrap.html).)\n",
    "* Et muuta värvid vastavaks erakonna sümboolikaga, kasuta värve \"#00983A\", \"#FFDE00\",\"#E30613\", \"#009FE3\",\"#8B4513\", \"#82368C\" (vastavalt KESK, REF, SDE, IRL, EKRE, Muu).\n",
    "* Värvide muutmiseks uuri [järgmisi ggplot2 näiteid.](https://ggplot2.tidyverse.org/reference/scale_manual.html)\n",
    "* Pööra tähelepanu n-ö akende pealkirjadele ja järjekorrale. Abiks võib olla funktsioon `factor`."
   ]
  },
  {
   "cell_type": "markdown",
   "metadata": {},
   "source": [
    "### Boonusülesanne B2.1 (2 punkti)\n",
    "\n",
    "Lisa hallid mummud taustale. Tulemus peaks olema selline:\n",
    "\n",
    "![](https://raw.githubusercontent.com/andmeteadus/2020/master/_praktikum2/pettus/erakonnad_taustaga.png \"Näide\")"
   ]
  },
  {
   "cell_type": "code",
   "execution_count": 15,
   "metadata": {
    "message": false,
    "tags": [
     "remove_input"
    ],
    "warning": false
   },
   "outputs": [],
   "source": [
    "# Ülesanne B2.1\n",
    "# Sinu kood\n"
   ]
  },
  {
   "cell_type": "markdown",
   "metadata": {},
   "source": [
    "## <font color='red'>See oli viimane ülesanne! Palun jooksuta kogu Jupyter Notebook uuesti, et veenduda oma koodi töötamises! (`Kernel -> Restart and Run All`)</font>\n",
    "\n",
    "\n",
    "## Lahendamise aeg\n",
    "\n",
    "Lisaks võiksid mainida, kui palju aega kulus osa I, II ja III peale. Mida arvad ülesannetest ja videotest (kasulikkus, huvitavus)?"
   ]
  },
  {
   "cell_type": "markdown",
   "metadata": {},
   "source": [
    "**<font color='red'>Kodutöö 1 lahendamiseks kulus:</font>** X h\n",
    "\n",
    "Kõige raskem oli ülesanne ... "
   ]
  },
  {
   "cell_type": "markdown",
   "metadata": {},
   "source": [
    "**Tänan vastamast!**"
   ]
  }
 ],
 "metadata": {
  "jupytext": {
   "cell_metadata_filter": "-all",
   "main_language": "R",
   "notebook_metadata_filter": "-all"
  },
  "kernelspec": {
   "display_name": "R",
   "language": "R",
   "name": "ir"
  },
  "language_info": {
   "codemirror_mode": "r",
   "file_extension": ".r",
   "mimetype": "text/x-r-source",
   "name": "R",
   "pygments_lexer": "r",
   "version": "3.6.1"
  }
 },
 "nbformat": 4,
 "nbformat_minor": 4
}
