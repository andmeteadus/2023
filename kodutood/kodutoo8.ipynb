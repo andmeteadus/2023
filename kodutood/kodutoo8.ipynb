{
 "cells": [
  {
   "cell_type": "markdown",
   "metadata": {},
   "source": [
    "# VIII kodutöö - dopingutest"
   ]
  },
  {
   "cell_type": "markdown",
   "metadata": {},
   "source": [
    "### Sissejuhatus\n",
    "\n",
    "Sander \"Gamma\" Lognormaalsele meeldib võistelda. Eelmine nädal käis ta rahvusvahelisel statistikaolümpiaadil, kus ta ei suutnud enamat pronksmedalist. \n",
    "Olümpiaadil tuli lahendada mitmeid huvitavaid statistikaülesandeid. Teoreetilises osas oli vaja tuvastada, kas mõni hinnang on nihkega või nihketa. Praktiline osa algas aja peale andmete sisestamisega SASi. Seekord oli praktiline osa eriti põnev, kuna töötati reaalsete andmetega: andmetabelis oli 11 vaatlust ning 2 tunnust. Sellele järgnes osa \"Märka olulisi tunnuseid\", kus tuli aja peale SASi väljundist üles leida tunnused, mille p-väärtus on väiksem kui 0.05.\n",
    "\n",
    "Oma tulemusi analüüsides sai Sandrile selgeks, et konkurentidele jäi ta alla viimases, väikeste p-väärtuste märkamise voorus. Ta kahtlustas, et konkurentide paremus tulenes tähelepanu tõstvate ainete manustamisest ning statistikaolümpiaadil tuleks kehtestada dopingutestid. Aga kuidas seda teha? Õnneks leidis ta, et Krista Fischer on tegelenud ühe dopingujuhtumi analüüsimisega, ning on koos Donald A. Berryga kirjutanud artikli [Statisticians Introduce Science to International Doping Agency: The Andrus Veerpalu Case](http://chance.amstat.org/2014/09/doping/). \n",
    "\n",
    "Selles praktikumis uurimegi sellesama dopingujuhtumi näitel, kuidas kasvuhormooni dopingutesti piirmäärad seati ning mille vastu eksiti.\n",
    "\n",
    "### Kasvuhormoonist\n",
    "\n",
    "Kasvurhormoon on inimkehas toodetud aine, mille ülesanne on reguleerida kehapikkust, lihaste ja organite kasvu. Ravimina on kasutusel sünteetiline kasvuhormoon, mida kasutatakse näiteks laste kasvudefektide ravis ja aidsihaigete üldseisundi parandamiseks. Kuigi teaduslikult pole tõestatud, et sünteetilise kasvuhormooni pruukimine tõstab sportlikke tulemusi (vt [Stanfordi ülikooli teadlaste meta-analüüs](http://annals.org/article.aspx?articleid=741027), mis võtab kokku 27 uuringu tulemused), on spordiringkond siiski arvamusel selle positiivsest mõjust ning 1989. aastal lisas Rahvusvaheline Olümpiakomitee kasvuhormooni keelatud ainete nimistusse.\n",
    "\n",
    "Sünteetilise kasvuhormooni kasutamist on raske tuvastada. Üks põhjustest on kasvuhormooni kontsentratsiooni suur varieeruvus päeva lõikes ning pulsseeruv sekretsioon.\n",
    "\n",
    "![](https://raw.githubusercontent.com/andmeteadus/2021/master/_praktikum8/doping/plot1.png \"Skitseering kasvuhormooni pulsseeruvast sekretsioonist artikli Hersch and Merriam (2008) põhjal.\")\n",
    "\n",
    "[Saksa teadlaste 2009. aastal väljatöötatud test](http://www.clinchem.org/content/55/3/445.long) ei kontrolligi kasvuhormooni taset, vaid hormooni erinevate molekulitüüpide omavahelist tasakaalu. Eeldatakse, et erinevate isovormide suhe on ajas konstantne. Kuna arvatakse, et sünteetiline kasvuhormooni süstimisel muutub vaid ühe isovormi tase veres. Dopingutesti idee seisnebki testimises, kas kahe isovormi suhe on statistiliselt erinev loomulikust suhtest.\n",
    "\n",
    "### Andmestik\n",
    "\n",
    "Lae alla andmestik [doping.csv](https://andmeteadus.github.io/2021/data/doping.csv) ja loe töökeskkonda. Andmestikus on järgmised tunnused:\n",
    "\n",
    "* *ethnicity* - etnilisus: kas *african* või *caucasian*\n",
    "* *kit* - dopingutesti erinevad variandid (kit1 ja kit2)\n",
    "* *rec* - kasvuhormooni isovormi *rec* kontsentratsioon\n",
    "* *pit* - kasvuhormooni isovormi *pit* kontsentratsioon"
   ]
  },
  {
   "cell_type": "markdown",
   "metadata": {},
   "source": [
    "### Ülesanne 1 (1 punkt) -  andmetega tutvumine\n",
    "\n",
    "Lisa andmetabelisse tunnus *ratio*, mis näitab tunnuste *rec* ja *pit* suhet. Visualiseeri tunnuste *rec*, *pit* ja *ratio* jaotusi."
   ]
  },
  {
   "cell_type": "code",
   "execution_count": null,
   "metadata": {},
   "outputs": [],
   "source": [
    "# Ülesanne 1\n",
    "# sinu kood\n"
   ]
  },
  {
   "cell_type": "markdown",
   "metadata": {},
   "source": [
    "### Ülesanne 2 (3 punkti) -  jaotustest\n",
    "\n",
    "Kodutööna lugesid artiklit [Statisticians Introduce Science to International Doping Agency: The Andrus Veerpalu Case](http://chance.amstat.org/2014/09/doping/). Said teada, et dopingutest põhines kasvuhormooni isovormide suhtel ehk tunnusel *ratio*. Mingi hetk kasutati isovormide suhte modelleerimiseks log-normaalset jaotust, mingil hetkel see enam ei sobinud ning kasutusele võeti gammajaotus. \n",
    "\n",
    "a. Aga millised näevad välja log-normaaljaotus ning gammajaotus? Selleks visualiseeri neid.\n",
    "\n",
    "Näpunäide: Järgnev kood visualiseerib log-normaaljaotuste tihedusi"
   ]
  },
  {
   "cell_type": "code",
   "execution_count": null,
   "metadata": {
    "eval": false
   },
   "outputs": [],
   "source": [
    "library(ggplot2)\n",
    "library(dplyr)\n",
    "\n",
    "i = 1\n",
    "df_list = list()\n",
    "for(m in c(0, 0.5, 1, 1.5)){\n",
    "  for(s in c(0.25, 0.5, 1, 2)){\n",
    "    # tiheduse graafiku jaoks x ja y koordinaadid\n",
    "    x = seq(0, 5, 0.01)\n",
    "    y = dlnorm(x, meanlog = m, sdlog = s)\n",
    "    \n",
    "    df_list[[i]] = data.frame(x=x, y=y, meanlog=paste0(\"meanlog=\",m), sdlog=paste0(\"sdlog=\",s))\n",
    "    i = i + 1\n",
    "  }\n",
    "}\n",
    "df = bind_rows(df_list)\n",
    "ggplot(df, aes(x, y)) + geom_area() + facet_grid(meanlog~sdlog)\n"
   ]
  },
  {
   "cell_type": "markdown",
   "metadata": {},
   "source": [
    "Joonista ka gammajaotuse tihedusfunktsioonid $\\Gamma(\\alpha, \\beta)$ erinevate $\\alpha \\in \\{1, 2, 3, 4, 5\\}$ ja $\\beta \\in \\{1, 2, 3, 4, 5\\}$ jaoks. Selgita, kuidas muutub jaotus, kui muudame kumbagi parameetrit. \n"
   ]
  },
  {
   "cell_type": "code",
   "execution_count": null,
   "metadata": {},
   "outputs": [],
   "source": [
    "# Ülesanne 2\n",
    "# sinu kood + kommentaar\n"
   ]
  },
  {
   "cell_type": "markdown",
   "metadata": {},
   "source": [
    "b. Tihti eeldatakse statistikas, et tunnus on normaaljaotusega. Kas isovormide suhe võiks põhimõtteliselt olla normaaljaotusega? Põhjenda. "
   ]
  },
  {
   "cell_type": "markdown",
   "metadata": {},
   "source": [
    "**<font color='red'>Vastus:</font>** Kirjuta vastus siia."
   ]
  },
  {
   "cell_type": "markdown",
   "metadata": {},
   "source": [
    "### WADA metoodika analüüs\n",
    "\n",
    "Lühikokkuvõte, kuidas määras otsustuspiirid WADA. \n",
    "\n",
    "* Analüüsist jäeti välja andmepunktid, kus rec või pit kontsentratsioon oli väiksem kui 0.05.\n",
    "* Neljale osagrupile (kit1 - valged, kit1 - mustanahalised, kit2 - valged, kit2 - mustanahalised) sobitati parameetriline jaotus.\n",
    "* WADA väitel sobitus lognormaalne jaotus andmetele kõige paremini.\n",
    "* Otsustuspiiriks võeti 99.99% log-normaaljaotuse kvantiil.\n",
    "* Võeti kasutusele mustanahaliste piirmäärad, sest need olid suuremad."
   ]
  },
  {
   "cell_type": "markdown",
   "metadata": {},
   "source": [
    "### Ülesanne 3 (2 punkti) - andmete filtreerimine\n",
    "\n",
    "a. Mis sa arvad, miks jäeti analüüsist välja andmepunktid, kus rec või pit kontsentratsioon oli väiksem kui 0.05?\n"
   ]
  },
  {
   "cell_type": "markdown",
   "metadata": {},
   "source": [
    "**<font color='red'>Vastus:</font>** Kirjuta vastus siia."
   ]
  },
  {
   "cell_type": "markdown",
   "metadata": {},
   "source": [
    "b. Visualiseeri hajuvusdiagrammi abil, millised andmepunktid jäid analüüsist välja."
   ]
  },
  {
   "cell_type": "code",
   "execution_count": null,
   "metadata": {},
   "outputs": [],
   "source": [
    "# Ülesanne 3b\n",
    "# sinu kood\n"
   ]
  },
  {
   "cell_type": "markdown",
   "metadata": {},
   "source": [
    "Edasises kasuta andmestikku, kus rec ja pit on suuremad kui 0.05. \n",
    "\n",
    "### Ülesanne 4 (4 punkti) - parameetrilise jaotuse sobitamine\n",
    "\n",
    "> Praktikumis tuletasime meelde statistika põhitõdesid (parameetrite hindamist suurima tõepära meetodil) ning kasutasime paketi `MASS` funktsiooni `fitdistr`.\n",
    "\n",
    "a. [Log-normaaljaotusel](http://en.wikipedia.org/wiki/Log-normal_distribution) on kaks parameetrit. Kuidas leiad sellised parameetrite väärtused, mille korral jaotus sobiks andmetega kõige paremini? Leia need parameetrid \"kit1 - valged\" osapopulatsiooni jaoks. \n",
    "\n",
    "b. Ka [gammajaotusel](http://en.wikipedia.org/wiki/Gamma_distribution) on kaks parameetrit. Kuidas leiad sellised parameetrite väärtused, mille korral jaotus sobiks andmetega kõige paremini? Leia need parameetrid \"kit1 - valged\" osapopulatsiooni jaoks.\n",
    "\n",
    "c. Leia kummagi jaotuse 99.99% kvantiil. \n",
    "\n",
    "d. Visualiseeri ühel joonisel koos andmetega nii sobitatud log-normaal kui ka gammajaotust. Lisa joonisele 99.99% kvantiil. \n",
    "\n",
    "Näpunäited:\n",
    "\n",
    "* Et histogrammi y-teljele saada *density*, uuri https://ggplot2.tidyverse.org/reference/geom_histogram.html \n",
    "* Tiheduse lisamiseks uuri https://ggplot2.tidyverse.org/reference/geom_function.html\n",
    "* Joonis võiks välja näha umbes selline\n",
    "\n",
    "![](https://raw.githubusercontent.com/andmeteadus/2021/master/_praktikum8/doping/doping_hist.png)"
   ]
  },
  {
   "cell_type": "code",
   "execution_count": null,
   "metadata": {},
   "outputs": [],
   "source": [
    "# Ülesanne 4\n",
    "# sinu kood\n"
   ]
  },
  {
   "cell_type": "markdown",
   "metadata": {},
   "source": [
    "### Ülesanne 5 (3 punkti) - kas jaotus sobib andmetega\n",
    "\n",
    "a. Kas eelnevalt sobitatud log-normaaljaotus võiks sobida andmetega? Mille alusel otsustad?\n",
    "\n",
    "b. Aga kas gammajaotus võiks sobida andmetega?\n",
    "\n",
    "c. Oletame, et mõlemad jaotused sobisid andmetega. Mille põhjal langetad otsuse, kumb sobib paremini?  \n",
    "WADA väitis, et log-normaaljaotus sobib andmetele kõige paremini. Kas said sama tulemuse?"
   ]
  },
  {
   "cell_type": "markdown",
   "metadata": {},
   "source": [
    "**<font color='red'>Vastus:</font>** Kirjuta vastus siia."
   ]
  },
  {
   "cell_type": "markdown",
   "metadata": {},
   "source": [
    "### Ülesanne 6 (2 punkti) - piirmäärad alamgruppide kaupa\n",
    "\n",
    "Sobita nüüd kõigile neljale alamgrupile log-normaaljaotus ja leia selle 99.99% kvantiil.\n",
    "\n",
    "Ametlik piirmäär kit1 korral oli 1.81 ja kit2 korral 1.68. Kas said sarnased tulemused?"
   ]
  },
  {
   "cell_type": "code",
   "execution_count": null,
   "metadata": {
    "lines_to_next_cell": 2
   },
   "outputs": [],
   "source": [
    "# Ülesanne 6\n",
    "# sinu kood + kommentaar\n"
   ]
  },
  {
   "cell_type": "markdown",
   "metadata": {},
   "source": [
    "### Kuidas verifitseeris otsustuspiire WADA?\n",
    "\n",
    "Esmased otsustuspiirid on määratud. Nüüd tuleb neid verifitseerida. Kuidas tegi seda WADA?\n",
    "\n",
    "* Rutiinsete dopingukontrollide käigus koguti aastatel 2009-2011 kit1 kohta 3547 mõõtmist ja kit2 kohta 617 mõõtmist.\n",
    "* Nendes andmetes puudub tunnus *ethnicity*.\n",
    "* Nüüd filtreeriti välja andmepunktid, kus rec kontsentratsioon oli väiksem kui 0.1 ja pit kontsentratsioon oli väiksem kui 0.05.\n",
    "* Lognormaaljaotus ei sobinud. Kasutati gammajaotust.\n",
    "* Visati välja 10 *imelikku* (liiga kõrget) andmepunkti.\n",
    "* Selle andmestiku põhjal arvutatud kvantiilid tulid väiksemad kui esmase uuringu kvantiilid. Järeldati, et esmased piirmäärad on verifitseeritud.\n",
    "\n",
    "Laadi Moodle-st alla andmestik [doping_verification.csv](https://andmeteadus.github.io/2021/data/doping_verification.csv). "
   ]
  },
  {
   "cell_type": "markdown",
   "metadata": {},
   "source": [
    "### Boonusülesanne B1 (kuni 5 punkti)\n",
    "\n",
    "Uuri ise midagi põnevat. Näiteks testi, kas tõesti enam log-normaaljaotus ei sobi, või uuri, milline mõju oli *imelike* andmepunktide väljaviskamisel.\n",
    "\n",
    "### Testi kriitika\n",
    "\n",
    "> See, kas tegu on gamma- või lognormaaljaotusega on tegelikult mõnes mõttes pseudoprobleem. Tuleb silmas pidada, et me tahame hinnata väga äärmuslikku, 99,99% kvantiili. Kui me valimi põhjal mingi standardse testiga kontrollime parameetrilise jaotuse kehtivust ja jääme nullhüpoteesi juurde, siis see tähendab seda, et suurem osa andmete jaotusest, nn jaotuse \"keha\" sobib selle jaotuse mudeliga. See test ei ütle midagi jaotuse \"saba\" kaugema otsa kohta. Ei ole suurt mõtet valideerimisuuringutes näha vaeva sellega, kas algul eeldatud jaotus paika peab. Pigem tuleks näha vaeva sellega, et uurida otsusepiirist üle minevate tulemuste kohta mingitki tausta - kas on vähimatki lisatõendust dopingutarvitamise kohta? Ega ikka muudmoodi ei saagi seda valepositiivse tulemuse tõenäosust kätte. Ja kui see pole võimalik...siis kas saabki kehaomase aine lisadoseerimist täie kindlusega testida?"
   ]
  },
  {
   "cell_type": "code",
   "execution_count": 1,
   "metadata": {},
   "outputs": [],
   "source": [
    "# Ülesanne B1\n",
    "# sinu kood\n"
   ]
  },
  {
   "cell_type": "markdown",
   "metadata": {},
   "source": [
    "### Ülesanne 7 (6 punkti) - bootstrap usaldusintervall otsustuspiirile\n",
    "\n",
    "Testi otsustuspiirid olid määratud vaid 106 sportlase põhjal, kui testiga hakati juba sportlaseid \"vahele võtma\". Samas eeldati, et test teeb vaid 1 vea 10000 testis. Sellise täpsuse saamiseks oli valimimaht ilmselgelt liiga väike.\n",
    "\n",
    "Artiklis oli kirjas\n",
    "\n",
    "> WADA scientists claim that the test with the resulting DL (decision limit) has a specificity of at least 99.99%. The claimed false-positive rate of less than 1 in 10,000 is quite remarkable from a sample size of less than 200! Clearly, it relies strongly on the parametric form of testing results.\n",
    "\n",
    "Leia bootstrap 95% usaldusintervall dopingutesti piirmäärale (ehk 99.99% kvantiilile). Visualiseeri saadud tulemust. \n",
    "\n",
    "> [Bootstrap](http://en.wikipedia.org/wiki/Bootstrapping_%28statistics%29) on üks viis leida valimihinnangule (näiteks meid huvitavale kvantiilile) usaldusintervall. Kui bootstrap on sinu jaoks uus, on abiks järgnev Coursera kursuse [Data Analysis and Statistical Inference](https://www.coursera.org/course/statistics) (täpsemalt *Unit 4 Part 2 - Bootstrapping*).  \n",
    "Juhul, kui sa ei soovi sellele kursusele registreeruda, siis kiire ülevaate saad videost [Confidence Intervals: Intro to bootstrapping proportions](https://www.youtube.com/watch?v=655X9eZGxls)."
   ]
  },
  {
   "cell_type": "code",
   "execution_count": null,
   "metadata": {},
   "outputs": [],
   "source": [
    "# Ülesanne 7\n",
    "# sinu kood\n"
   ]
  },
  {
   "cell_type": "markdown",
   "metadata": {},
   "source": [
    "### Ülesanne 8 (4 punkti) - valepositiivse testitulemuse tõenäosus\n",
    "\n",
    "> CASis kohal käinud statistikud (1 Eestist, 1 vägagi nimekas professor USAst) tegid selgeks, et kui test on positiivne, siis dopingutarvitamise tõenäosus jääb vahemikku 10-90%. 90% on õige siis, kui WADA poolt väidetav spetsiifilisus 99,99% (ehk siis valepositiivse tõenäosus 0,01%) kehtib. 10% on õige siis, kui see on tegelikult 99,9%. WADA andmed ei võimalda kindlaks teha, kas ta tegelikult on 99,99% või 99,9%. Sellega oli nõus ka CAS\n",
    "\n",
    "Kuidas leida dopingutarvitamise tõenäosust, kui sportlane sai positiivse testitulemuse?\n",
    "\n",
    "Näpunäited:\n",
    "\n",
    "a. Oletame, et dopingutarvitajaid on 2%, testi tundlikkus on 25%, spetsiifilisus on 99.9% ning oleme testinud 10000 sportlast. Täida nende eelduste põhjal järgmine tabel:\n",
    "\n",
    "![](https://raw.githubusercontent.com/andmeteadus/2021/master/_praktikum8/doping/doping_tabel.png)\n",
    "\n",
    "Meeldetuletus:\n",
    "\n",
    "$$\\text{Testi tundlikkus} = \\frac{\\text{õiged positiivsed}}{\\text{õiged positiivsed + valenegatiivsed}}$$\n",
    "\n",
    "$$\\text{Testi spetsiifilisus} = \\frac{\\text{õiged negatiivsed}}{\\text{õiged negatiivsed + valepositiivsed}}$$\n",
    "\n",
    "Mis on tõenäosus, et positiivse dopingutesti korral on sportlane ka tegelikult dopingut tarvitanud?\n",
    "\n"
   ]
  },
  {
   "cell_type": "markdown",
   "metadata": {},
   "source": [
    "**<font color='red'>Vastus:</font>** Kirjuta vastus siia.\n",
    "\n",
    "A: \n",
    "\n",
    "B:\n",
    "\n",
    "C:\n",
    "\n",
    "D:\n",
    "\n",
    "Tõenäosus, et positiivse testiga sportlane kasutas dopingut:"
   ]
  },
  {
   "cell_type": "markdown",
   "metadata": {},
   "source": [
    "b. Oletame nüüd, et testi spetsiifilisus on 99.99%. Mis on tõenäosus, et positiivse dopingutesti korral on sportlane ka tegelikult dopingut tarvitanud?"
   ]
  },
  {
   "cell_type": "markdown",
   "metadata": {},
   "source": [
    "**<font color='red'>Vastus:</font>** Kirjuta vastus siia."
   ]
  },
  {
   "cell_type": "markdown",
   "metadata": {},
   "source": [
    "### Boonusülesanne B2 (3 punkti)\n",
    "\n",
    "Kasvuhormooni dopingutesti üks eeldustest oli, et isovormide suhe on konstantne.\n",
    "\n",
    "> Even though the levels of total hGH concentration will vary substantially, it is assumed the ratio between the relevant types of hGH isoforms measured by the test will naturally remain relatively stable.\n",
    "\n",
    "Mõtle välja viis, kuidas kontrollida eeldust, et testi mõõdetud isovormide suhe on *konstantne* ning ei sõltu tegelikust kasvuhormooni kontsentratsioonist. Kontrolli eeldust kasutades enda väljapakutud lähenemist."
   ]
  },
  {
   "cell_type": "code",
   "execution_count": null,
   "metadata": {},
   "outputs": [],
   "source": [
    "# Ülesanne B2\n",
    "# sinu kood + kommentaar\n"
   ]
  },
  {
   "cell_type": "markdown",
   "metadata": {},
   "source": [
    "## <font color='red'>See oli viimane ülesanne! Palun jooksuta kogu Jupyter Notebook uuesti, et veenduda oma koodi töötamises! (`Kernel -> Restart and Run All`)</font>\n",
    "\n",
    "# Mida on vaja esitada?\n",
    "\n",
    "* Esita vastustega Jupyter fail.\n",
    "\n",
    "Lahendused esitada [Moodle keskkonna](https://moodle.ut.ee/course/view.php?id=8013#section-1) kaudu."
   ]
  },
  {
   "cell_type": "markdown",
   "metadata": {},
   "source": [
    "\n",
    "## Lahendamise aeg\n",
    "\n",
    "Lisaks võiksid mainida, kui palju aega kulus osa kodutöö peale. Mida arvad ülesannetest (kasulikkus, huvitavus)?"
   ]
  },
  {
   "cell_type": "markdown",
   "metadata": {},
   "source": [
    "**<font color='red'>Kodutöö lahendamiseks kulus:</font>** X h\n",
    "\n",
    "Ülesanded olid ... "
   ]
  },
  {
   "cell_type": "markdown",
   "metadata": {},
   "source": [
    "**Tänan vastamast!**"
   ]
  }
 ],
 "metadata": {
  "jupytext": {
   "cell_metadata_filter": "-all",
   "main_language": "python",
   "notebook_metadata_filter": "-all"
  },
  "kernelspec": {
   "display_name": "R",
   "language": "R",
   "name": "ir"
  },
  "language_info": {
   "codemirror_mode": "r",
   "file_extension": ".r",
   "mimetype": "text/x-r-source",
   "name": "R",
   "pygments_lexer": "r",
   "version": "3.6.1"
  }
 },
 "nbformat": 4,
 "nbformat_minor": 4
}
